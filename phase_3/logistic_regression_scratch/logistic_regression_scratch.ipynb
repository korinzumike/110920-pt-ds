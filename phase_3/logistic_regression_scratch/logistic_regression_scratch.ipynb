{
 "cells": [
  {
   "cell_type": "code",
   "execution_count": 1,
   "metadata": {
    "ExecuteTime": {
     "end_time": "2021-04-07T15:00:04.979535Z",
     "start_time": "2021-04-07T15:00:04.976503Z"
    }
   },
   "outputs": [],
   "source": [
    "import numpy as np\n",
    "import matplotlib.pyplot as plt\n",
    "from sklearn.datasets import make_classification\n",
    "from sklearn.metrics import accuracy_score\n",
    "from IPython.display import display"
   ]
  },
  {
   "cell_type": "markdown",
   "metadata": {},
   "source": [
    "# Logistic Regression\n",
    "\n",
    "In this notebook, we break down the the Logistic Regression algorithm. **Logistic Regression** is a commonly used machine learning model for binary prediction problems that have classes of `0` and `1`.\n",
    "\n",
    "### Similiarities to Linear Regression\n",
    "\n",
    "At first, Logistic Regression behaves exactly like Linear Regression, in that:\n",
    "1. We receive a matrix `X` with m rows and n columns. \n",
    "2. We receive an array `Y` with m rows and 1 column.\n",
    "3. We initialize an array of weights `W`, or coefficients, with a shape of (n,1)\n",
    "4. We have a scaler value `b`, or our intercept.\n",
    "\n",
    "Another shared quality is that to aquire predictions we first follow the formula of linear regression exactly. \n",
    "> ie, we  multiply the weight vector by the X matrix and add the intercept $Z = WX + b$\n",
    "\n",
    "### The Sigmoid Function\n",
    "\n",
    "But this is where things begin to change. The goal of Logistic Regression is to predict either a `0` or a `1`. If we were follow the prediction formula of Linear Regression, we could end up with an array of real numbers. So instead what we do is plug the output of the linear formula into the `sigmoid function` $\\sigma$.\n",
    "\n",
    "**The sigmoid function** looks like this:\n",
    "\n",
    "$A_i = \\sigma(Z_i) = \\frac{1}{1+ e^{-Z_i}}$"
   ]
  },
  {
   "cell_type": "code",
   "execution_count": 2,
   "metadata": {
    "ExecuteTime": {
     "end_time": "2021-04-06T02:46:02.743776Z",
     "start_time": "2021-04-06T02:46:02.740923Z"
    }
   },
   "outputs": [],
   "source": [
    "def sigmoid(z):\n",
    "    return 1/(1+np.e**-z)"
   ]
  },
  {
   "cell_type": "markdown",
   "metadata": {},
   "source": [
    "The way this function works, if $Z_i$ is a very large number, the term $e^{-Z_i}$ in the denominator begins to approach 0, at which point the equation becomes $\\frac{1}{1 + 0} = 1$. "
   ]
  },
  {
   "cell_type": "code",
   "execution_count": 3,
   "metadata": {
    "ExecuteTime": {
     "end_time": "2021-04-06T02:46:26.390941Z",
     "start_time": "2021-04-06T02:46:26.387402Z"
    }
   },
   "outputs": [
    {
     "output_type": "execute_result",
     "data": {
      "text/plain": [
       "1.0"
      ]
     },
     "metadata": {},
     "execution_count": 3
    }
   ],
   "source": [
    "# When the input is large\n",
    "# the sigmoid function outputs 1\n",
    "sigmoid(1000)"
   ]
  },
  {
   "cell_type": "markdown",
   "metadata": {},
   "source": [
    "If $Z_i$ is a very small number, the term ${e^{-Z}}$ results in a large number which increases the size of the denominator beyond the numerator and results in a small float value. Ultimately, these become probabilities between 0 and 1 and are quite effective at predicting binary targets."
   ]
  },
  {
   "cell_type": "code",
   "execution_count": 4,
   "metadata": {
    "ExecuteTime": {
     "end_time": "2021-04-06T02:47:05.561511Z",
     "start_time": "2021-04-06T02:47:05.557706Z"
    }
   },
   "outputs": [
    {
     "output_type": "execute_result",
     "data": {
      "text/plain": [
       "3.7200759760208555e-44"
      ]
     },
     "metadata": {},
     "execution_count": 4
    }
   ],
   "source": [
    "# When the input is small\n",
    "# the sigmoid function output approaches 0\n",
    "sigmoid(-100)"
   ]
  },
  {
   "cell_type": "code",
   "execution_count": 5,
   "metadata": {
    "ExecuteTime": {
     "end_time": "2021-04-06T03:01:46.540271Z",
     "start_time": "2021-04-06T03:01:46.377151Z"
    }
   },
   "outputs": [
    {
     "output_type": "display_data",
     "data": {
      "text/plain": "<Figure size 1080x432 with 1 Axes>",
      "image/svg+xml": "<?xml version=\"1.0\" encoding=\"utf-8\" standalone=\"no\"?>\r\n<!DOCTYPE svg PUBLIC \"-//W3C//DTD SVG 1.1//EN\"\r\n  \"http://www.w3.org/Graphics/SVG/1.1/DTD/svg11.dtd\">\r\n<!-- Created with matplotlib (https://matplotlib.org/) -->\r\n<svg height=\"372.35625pt\" version=\"1.1\" viewBox=\"0 0 874.303125 372.35625\" width=\"874.303125pt\" xmlns=\"http://www.w3.org/2000/svg\" xmlns:xlink=\"http://www.w3.org/1999/xlink\">\r\n <metadata>\r\n  <rdf:RDF xmlns:cc=\"http://creativecommons.org/ns#\" xmlns:dc=\"http://purl.org/dc/elements/1.1/\" xmlns:rdf=\"http://www.w3.org/1999/02/22-rdf-syntax-ns#\">\r\n   <cc:Work>\r\n    <dc:type rdf:resource=\"http://purl.org/dc/dcmitype/StillImage\"/>\r\n    <dc:date>2021-04-07T10:48:26.595349</dc:date>\r\n    <dc:format>image/svg+xml</dc:format>\r\n    <dc:creator>\r\n     <cc:Agent>\r\n      <dc:title>Matplotlib v3.3.4, https://matplotlib.org/</dc:title>\r\n     </cc:Agent>\r\n    </dc:creator>\r\n   </cc:Work>\r\n  </rdf:RDF>\r\n </metadata>\r\n <defs>\r\n  <style type=\"text/css\">*{stroke-linecap:butt;stroke-linejoin:round;}</style>\r\n </defs>\r\n <g id=\"figure_1\">\r\n  <g id=\"patch_1\">\r\n   <path d=\"M 0 372.35625 \r\nL 874.303125 372.35625 \r\nL 874.303125 0 \r\nL 0 0 \r\nz\r\n\" style=\"fill:none;\"/>\r\n  </g>\r\n  <g id=\"axes_1\">\r\n   <g id=\"patch_2\">\r\n    <path d=\"M 30.103125 348.478125 \r\nL 867.103125 348.478125 \r\nL 867.103125 22.318125 \r\nL 30.103125 22.318125 \r\nz\r\n\" style=\"fill:#ffffff;\"/>\r\n   </g>\r\n   <g id=\"matplotlib.axis_1\">\r\n    <g id=\"xtick_1\">\r\n     <g id=\"line2d_1\">\r\n      <defs>\r\n       <path d=\"M 0 0 \r\nL 0 3.5 \r\n\" id=\"mdd296e2bfd\" style=\"stroke:#000000;stroke-width:0.8;\"/>\r\n      </defs>\r\n      <g>\r\n       <use style=\"stroke:#000000;stroke-width:0.8;\" x=\"68.14858\" xlink:href=\"#mdd296e2bfd\" y=\"348.478125\"/>\r\n      </g>\r\n     </g>\r\n     <g id=\"text_1\">\r\n      <!-- −10.0 -->\r\n      <g transform=\"translate(52.825923 363.076563)scale(0.1 -0.1)\">\r\n       <defs>\r\n        <path d=\"M 10.59375 35.5 \r\nL 73.1875 35.5 \r\nL 73.1875 27.203125 \r\nL 10.59375 27.203125 \r\nz\r\n\" id=\"DejaVuSans-8722\"/>\r\n        <path d=\"M 12.40625 8.296875 \r\nL 28.515625 8.296875 \r\nL 28.515625 63.921875 \r\nL 10.984375 60.40625 \r\nL 10.984375 69.390625 \r\nL 28.421875 72.90625 \r\nL 38.28125 72.90625 \r\nL 38.28125 8.296875 \r\nL 54.390625 8.296875 \r\nL 54.390625 0 \r\nL 12.40625 0 \r\nz\r\n\" id=\"DejaVuSans-49\"/>\r\n        <path d=\"M 31.78125 66.40625 \r\nQ 24.171875 66.40625 20.328125 58.90625 \r\nQ 16.5 51.421875 16.5 36.375 \r\nQ 16.5 21.390625 20.328125 13.890625 \r\nQ 24.171875 6.390625 31.78125 6.390625 \r\nQ 39.453125 6.390625 43.28125 13.890625 \r\nQ 47.125 21.390625 47.125 36.375 \r\nQ 47.125 51.421875 43.28125 58.90625 \r\nQ 39.453125 66.40625 31.78125 66.40625 \r\nz\r\nM 31.78125 74.21875 \r\nQ 44.046875 74.21875 50.515625 64.515625 \r\nQ 56.984375 54.828125 56.984375 36.375 \r\nQ 56.984375 17.96875 50.515625 8.265625 \r\nQ 44.046875 -1.421875 31.78125 -1.421875 \r\nQ 19.53125 -1.421875 13.0625 8.265625 \r\nQ 6.59375 17.96875 6.59375 36.375 \r\nQ 6.59375 54.828125 13.0625 64.515625 \r\nQ 19.53125 74.21875 31.78125 74.21875 \r\nz\r\n\" id=\"DejaVuSans-48\"/>\r\n        <path d=\"M 10.6875 12.40625 \r\nL 21 12.40625 \r\nL 21 0 \r\nL 10.6875 0 \r\nz\r\n\" id=\"DejaVuSans-46\"/>\r\n       </defs>\r\n       <use xlink:href=\"#DejaVuSans-8722\"/>\r\n       <use x=\"83.789062\" xlink:href=\"#DejaVuSans-49\"/>\r\n       <use x=\"147.412109\" xlink:href=\"#DejaVuSans-48\"/>\r\n       <use x=\"211.035156\" xlink:href=\"#DejaVuSans-46\"/>\r\n       <use x=\"242.822266\" xlink:href=\"#DejaVuSans-48\"/>\r\n      </g>\r\n     </g>\r\n    </g>\r\n    <g id=\"xtick_2\">\r\n     <g id=\"line2d_2\">\r\n      <g>\r\n       <use style=\"stroke:#000000;stroke-width:0.8;\" x=\"163.357425\" xlink:href=\"#mdd296e2bfd\" y=\"348.478125\"/>\r\n      </g>\r\n     </g>\r\n     <g id=\"text_2\">\r\n      <!-- −7.5 -->\r\n      <g transform=\"translate(151.216019 363.076563)scale(0.1 -0.1)\">\r\n       <defs>\r\n        <path d=\"M 8.203125 72.90625 \r\nL 55.078125 72.90625 \r\nL 55.078125 68.703125 \r\nL 28.609375 0 \r\nL 18.3125 0 \r\nL 43.21875 64.59375 \r\nL 8.203125 64.59375 \r\nz\r\n\" id=\"DejaVuSans-55\"/>\r\n        <path d=\"M 10.796875 72.90625 \r\nL 49.515625 72.90625 \r\nL 49.515625 64.59375 \r\nL 19.828125 64.59375 \r\nL 19.828125 46.734375 \r\nQ 21.96875 47.46875 24.109375 47.828125 \r\nQ 26.265625 48.1875 28.421875 48.1875 \r\nQ 40.625 48.1875 47.75 41.5 \r\nQ 54.890625 34.8125 54.890625 23.390625 \r\nQ 54.890625 11.625 47.5625 5.09375 \r\nQ 40.234375 -1.421875 26.90625 -1.421875 \r\nQ 22.3125 -1.421875 17.546875 -0.640625 \r\nQ 12.796875 0.140625 7.71875 1.703125 \r\nL 7.71875 11.625 \r\nQ 12.109375 9.234375 16.796875 8.0625 \r\nQ 21.484375 6.890625 26.703125 6.890625 \r\nQ 35.15625 6.890625 40.078125 11.328125 \r\nQ 45.015625 15.765625 45.015625 23.390625 \r\nQ 45.015625 31 40.078125 35.4375 \r\nQ 35.15625 39.890625 26.703125 39.890625 \r\nQ 22.75 39.890625 18.8125 39.015625 \r\nQ 14.890625 38.140625 10.796875 36.28125 \r\nz\r\n\" id=\"DejaVuSans-53\"/>\r\n       </defs>\r\n       <use xlink:href=\"#DejaVuSans-8722\"/>\r\n       <use x=\"83.789062\" xlink:href=\"#DejaVuSans-55\"/>\r\n       <use x=\"147.412109\" xlink:href=\"#DejaVuSans-46\"/>\r\n       <use x=\"179.199219\" xlink:href=\"#DejaVuSans-53\"/>\r\n      </g>\r\n     </g>\r\n    </g>\r\n    <g id=\"xtick_3\">\r\n     <g id=\"line2d_3\">\r\n      <g>\r\n       <use style=\"stroke:#000000;stroke-width:0.8;\" x=\"258.56627\" xlink:href=\"#mdd296e2bfd\" y=\"348.478125\"/>\r\n      </g>\r\n     </g>\r\n     <g id=\"text_3\">\r\n      <!-- −5.0 -->\r\n      <g transform=\"translate(246.424864 363.076563)scale(0.1 -0.1)\">\r\n       <use xlink:href=\"#DejaVuSans-8722\"/>\r\n       <use x=\"83.789062\" xlink:href=\"#DejaVuSans-53\"/>\r\n       <use x=\"147.412109\" xlink:href=\"#DejaVuSans-46\"/>\r\n       <use x=\"179.199219\" xlink:href=\"#DejaVuSans-48\"/>\r\n      </g>\r\n     </g>\r\n    </g>\r\n    <g id=\"xtick_4\">\r\n     <g id=\"line2d_4\">\r\n      <g>\r\n       <use style=\"stroke:#000000;stroke-width:0.8;\" x=\"353.775115\" xlink:href=\"#mdd296e2bfd\" y=\"348.478125\"/>\r\n      </g>\r\n     </g>\r\n     <g id=\"text_4\">\r\n      <!-- −2.5 -->\r\n      <g transform=\"translate(341.633709 363.076563)scale(0.1 -0.1)\">\r\n       <defs>\r\n        <path d=\"M 19.1875 8.296875 \r\nL 53.609375 8.296875 \r\nL 53.609375 0 \r\nL 7.328125 0 \r\nL 7.328125 8.296875 \r\nQ 12.9375 14.109375 22.625 23.890625 \r\nQ 32.328125 33.6875 34.8125 36.53125 \r\nQ 39.546875 41.84375 41.421875 45.53125 \r\nQ 43.3125 49.21875 43.3125 52.78125 \r\nQ 43.3125 58.59375 39.234375 62.25 \r\nQ 35.15625 65.921875 28.609375 65.921875 \r\nQ 23.96875 65.921875 18.8125 64.3125 \r\nQ 13.671875 62.703125 7.8125 59.421875 \r\nL 7.8125 69.390625 \r\nQ 13.765625 71.78125 18.9375 73 \r\nQ 24.125 74.21875 28.421875 74.21875 \r\nQ 39.75 74.21875 46.484375 68.546875 \r\nQ 53.21875 62.890625 53.21875 53.421875 \r\nQ 53.21875 48.921875 51.53125 44.890625 \r\nQ 49.859375 40.875 45.40625 35.40625 \r\nQ 44.1875 33.984375 37.640625 27.21875 \r\nQ 31.109375 20.453125 19.1875 8.296875 \r\nz\r\n\" id=\"DejaVuSans-50\"/>\r\n       </defs>\r\n       <use xlink:href=\"#DejaVuSans-8722\"/>\r\n       <use x=\"83.789062\" xlink:href=\"#DejaVuSans-50\"/>\r\n       <use x=\"147.412109\" xlink:href=\"#DejaVuSans-46\"/>\r\n       <use x=\"179.199219\" xlink:href=\"#DejaVuSans-53\"/>\r\n      </g>\r\n     </g>\r\n    </g>\r\n    <g id=\"xtick_5\">\r\n     <g id=\"line2d_5\">\r\n      <g>\r\n       <use style=\"stroke:#000000;stroke-width:0.8;\" x=\"448.98396\" xlink:href=\"#mdd296e2bfd\" y=\"348.478125\"/>\r\n      </g>\r\n     </g>\r\n     <g id=\"text_5\">\r\n      <!-- 0.0 -->\r\n      <g transform=\"translate(441.032398 363.076563)scale(0.1 -0.1)\">\r\n       <use xlink:href=\"#DejaVuSans-48\"/>\r\n       <use x=\"63.623047\" xlink:href=\"#DejaVuSans-46\"/>\r\n       <use x=\"95.410156\" xlink:href=\"#DejaVuSans-48\"/>\r\n      </g>\r\n     </g>\r\n    </g>\r\n    <g id=\"xtick_6\">\r\n     <g id=\"line2d_6\">\r\n      <g>\r\n       <use style=\"stroke:#000000;stroke-width:0.8;\" x=\"544.192806\" xlink:href=\"#mdd296e2bfd\" y=\"348.478125\"/>\r\n      </g>\r\n     </g>\r\n     <g id=\"text_6\">\r\n      <!-- 2.5 -->\r\n      <g transform=\"translate(536.241243 363.076563)scale(0.1 -0.1)\">\r\n       <use xlink:href=\"#DejaVuSans-50\"/>\r\n       <use x=\"63.623047\" xlink:href=\"#DejaVuSans-46\"/>\r\n       <use x=\"95.410156\" xlink:href=\"#DejaVuSans-53\"/>\r\n      </g>\r\n     </g>\r\n    </g>\r\n    <g id=\"xtick_7\">\r\n     <g id=\"line2d_7\">\r\n      <g>\r\n       <use style=\"stroke:#000000;stroke-width:0.8;\" x=\"639.401651\" xlink:href=\"#mdd296e2bfd\" y=\"348.478125\"/>\r\n      </g>\r\n     </g>\r\n     <g id=\"text_7\">\r\n      <!-- 5.0 -->\r\n      <g transform=\"translate(631.450088 363.076563)scale(0.1 -0.1)\">\r\n       <use xlink:href=\"#DejaVuSans-53\"/>\r\n       <use x=\"63.623047\" xlink:href=\"#DejaVuSans-46\"/>\r\n       <use x=\"95.410156\" xlink:href=\"#DejaVuSans-48\"/>\r\n      </g>\r\n     </g>\r\n    </g>\r\n    <g id=\"xtick_8\">\r\n     <g id=\"line2d_8\">\r\n      <g>\r\n       <use style=\"stroke:#000000;stroke-width:0.8;\" x=\"734.610496\" xlink:href=\"#mdd296e2bfd\" y=\"348.478125\"/>\r\n      </g>\r\n     </g>\r\n     <g id=\"text_8\">\r\n      <!-- 7.5 -->\r\n      <g transform=\"translate(726.658934 363.076563)scale(0.1 -0.1)\">\r\n       <use xlink:href=\"#DejaVuSans-55\"/>\r\n       <use x=\"63.623047\" xlink:href=\"#DejaVuSans-46\"/>\r\n       <use x=\"95.410156\" xlink:href=\"#DejaVuSans-53\"/>\r\n      </g>\r\n     </g>\r\n    </g>\r\n    <g id=\"xtick_9\">\r\n     <g id=\"line2d_9\">\r\n      <g>\r\n       <use style=\"stroke:#000000;stroke-width:0.8;\" x=\"829.819341\" xlink:href=\"#mdd296e2bfd\" y=\"348.478125\"/>\r\n      </g>\r\n     </g>\r\n     <g id=\"text_9\">\r\n      <!-- 10.0 -->\r\n      <g transform=\"translate(818.686529 363.076563)scale(0.1 -0.1)\">\r\n       <use xlink:href=\"#DejaVuSans-49\"/>\r\n       <use x=\"63.623047\" xlink:href=\"#DejaVuSans-48\"/>\r\n       <use x=\"127.246094\" xlink:href=\"#DejaVuSans-46\"/>\r\n       <use x=\"159.033203\" xlink:href=\"#DejaVuSans-48\"/>\r\n      </g>\r\n     </g>\r\n    </g>\r\n   </g>\r\n   <g id=\"matplotlib.axis_2\">\r\n    <g id=\"ytick_1\">\r\n     <g id=\"line2d_10\">\r\n      <path clip-path=\"url(#p03f1e51e39)\" d=\"M 30.103125 333.666133 \r\nL 867.103125 333.666133 \r\n\" style=\"fill:none;stroke:#b0b0b0;stroke-linecap:square;stroke-width:0.8;\"/>\r\n     </g>\r\n     <g id=\"line2d_11\">\r\n      <defs>\r\n       <path d=\"M 0 0 \r\nL -3.5 0 \r\n\" id=\"m1277557cd1\" style=\"stroke:#000000;stroke-width:0.8;\"/>\r\n      </defs>\r\n      <g>\r\n       <use style=\"stroke:#000000;stroke-width:0.8;\" x=\"30.103125\" xlink:href=\"#m1277557cd1\" y=\"333.666133\"/>\r\n      </g>\r\n     </g>\r\n     <g id=\"text_10\">\r\n      <!-- 0.0 -->\r\n      <g transform=\"translate(7.2 337.465351)scale(0.1 -0.1)\">\r\n       <use xlink:href=\"#DejaVuSans-48\"/>\r\n       <use x=\"63.623047\" xlink:href=\"#DejaVuSans-46\"/>\r\n       <use x=\"95.410156\" xlink:href=\"#DejaVuSans-48\"/>\r\n      </g>\r\n     </g>\r\n    </g>\r\n    <g id=\"ytick_2\">\r\n     <g id=\"line2d_12\">\r\n      <path clip-path=\"url(#p03f1e51e39)\" d=\"M 30.103125 304.012504 \r\nL 867.103125 304.012504 \r\n\" style=\"fill:none;stroke:#b0b0b0;stroke-linecap:square;stroke-width:0.8;\"/>\r\n     </g>\r\n     <g id=\"line2d_13\">\r\n      <g>\r\n       <use style=\"stroke:#000000;stroke-width:0.8;\" x=\"30.103125\" xlink:href=\"#m1277557cd1\" y=\"304.012504\"/>\r\n      </g>\r\n     </g>\r\n     <g id=\"text_11\">\r\n      <!-- 0.1 -->\r\n      <g transform=\"translate(7.2 307.811723)scale(0.1 -0.1)\">\r\n       <use xlink:href=\"#DejaVuSans-48\"/>\r\n       <use x=\"63.623047\" xlink:href=\"#DejaVuSans-46\"/>\r\n       <use x=\"95.410156\" xlink:href=\"#DejaVuSans-49\"/>\r\n      </g>\r\n     </g>\r\n    </g>\r\n    <g id=\"ytick_3\">\r\n     <g id=\"line2d_14\">\r\n      <path clip-path=\"url(#p03f1e51e39)\" d=\"M 30.103125 274.358875 \r\nL 867.103125 274.358875 \r\n\" style=\"fill:none;stroke:#b0b0b0;stroke-linecap:square;stroke-width:0.8;\"/>\r\n     </g>\r\n     <g id=\"line2d_15\">\r\n      <g>\r\n       <use style=\"stroke:#000000;stroke-width:0.8;\" x=\"30.103125\" xlink:href=\"#m1277557cd1\" y=\"274.358875\"/>\r\n      </g>\r\n     </g>\r\n     <g id=\"text_12\">\r\n      <!-- 0.2 -->\r\n      <g transform=\"translate(7.2 278.158094)scale(0.1 -0.1)\">\r\n       <use xlink:href=\"#DejaVuSans-48\"/>\r\n       <use x=\"63.623047\" xlink:href=\"#DejaVuSans-46\"/>\r\n       <use x=\"95.410156\" xlink:href=\"#DejaVuSans-50\"/>\r\n      </g>\r\n     </g>\r\n    </g>\r\n    <g id=\"ytick_4\">\r\n     <g id=\"line2d_16\">\r\n      <path clip-path=\"url(#p03f1e51e39)\" d=\"M 30.103125 244.705246 \r\nL 867.103125 244.705246 \r\n\" style=\"fill:none;stroke:#b0b0b0;stroke-linecap:square;stroke-width:0.8;\"/>\r\n     </g>\r\n     <g id=\"line2d_17\">\r\n      <g>\r\n       <use style=\"stroke:#000000;stroke-width:0.8;\" x=\"30.103125\" xlink:href=\"#m1277557cd1\" y=\"244.705246\"/>\r\n      </g>\r\n     </g>\r\n     <g id=\"text_13\">\r\n      <!-- 0.3 -->\r\n      <g transform=\"translate(7.2 248.504465)scale(0.1 -0.1)\">\r\n       <defs>\r\n        <path d=\"M 40.578125 39.3125 \r\nQ 47.65625 37.796875 51.625 33 \r\nQ 55.609375 28.21875 55.609375 21.1875 \r\nQ 55.609375 10.40625 48.1875 4.484375 \r\nQ 40.765625 -1.421875 27.09375 -1.421875 \r\nQ 22.515625 -1.421875 17.65625 -0.515625 \r\nQ 12.796875 0.390625 7.625 2.203125 \r\nL 7.625 11.71875 \r\nQ 11.71875 9.328125 16.59375 8.109375 \r\nQ 21.484375 6.890625 26.8125 6.890625 \r\nQ 36.078125 6.890625 40.9375 10.546875 \r\nQ 45.796875 14.203125 45.796875 21.1875 \r\nQ 45.796875 27.640625 41.28125 31.265625 \r\nQ 36.765625 34.90625 28.71875 34.90625 \r\nL 20.21875 34.90625 \r\nL 20.21875 43.015625 \r\nL 29.109375 43.015625 \r\nQ 36.375 43.015625 40.234375 45.921875 \r\nQ 44.09375 48.828125 44.09375 54.296875 \r\nQ 44.09375 59.90625 40.109375 62.90625 \r\nQ 36.140625 65.921875 28.71875 65.921875 \r\nQ 24.65625 65.921875 20.015625 65.03125 \r\nQ 15.375 64.15625 9.8125 62.3125 \r\nL 9.8125 71.09375 \r\nQ 15.4375 72.65625 20.34375 73.4375 \r\nQ 25.25 74.21875 29.59375 74.21875 \r\nQ 40.828125 74.21875 47.359375 69.109375 \r\nQ 53.90625 64.015625 53.90625 55.328125 \r\nQ 53.90625 49.265625 50.4375 45.09375 \r\nQ 46.96875 40.921875 40.578125 39.3125 \r\nz\r\n\" id=\"DejaVuSans-51\"/>\r\n       </defs>\r\n       <use xlink:href=\"#DejaVuSans-48\"/>\r\n       <use x=\"63.623047\" xlink:href=\"#DejaVuSans-46\"/>\r\n       <use x=\"95.410156\" xlink:href=\"#DejaVuSans-51\"/>\r\n      </g>\r\n     </g>\r\n    </g>\r\n    <g id=\"ytick_5\">\r\n     <g id=\"line2d_18\">\r\n      <path clip-path=\"url(#p03f1e51e39)\" d=\"M 30.103125 215.051618 \r\nL 867.103125 215.051618 \r\n\" style=\"fill:none;stroke:#b0b0b0;stroke-linecap:square;stroke-width:0.8;\"/>\r\n     </g>\r\n     <g id=\"line2d_19\">\r\n      <g>\r\n       <use style=\"stroke:#000000;stroke-width:0.8;\" x=\"30.103125\" xlink:href=\"#m1277557cd1\" y=\"215.051618\"/>\r\n      </g>\r\n     </g>\r\n     <g id=\"text_14\">\r\n      <!-- 0.4 -->\r\n      <g transform=\"translate(7.2 218.850836)scale(0.1 -0.1)\">\r\n       <defs>\r\n        <path d=\"M 37.796875 64.3125 \r\nL 12.890625 25.390625 \r\nL 37.796875 25.390625 \r\nz\r\nM 35.203125 72.90625 \r\nL 47.609375 72.90625 \r\nL 47.609375 25.390625 \r\nL 58.015625 25.390625 \r\nL 58.015625 17.1875 \r\nL 47.609375 17.1875 \r\nL 47.609375 0 \r\nL 37.796875 0 \r\nL 37.796875 17.1875 \r\nL 4.890625 17.1875 \r\nL 4.890625 26.703125 \r\nz\r\n\" id=\"DejaVuSans-52\"/>\r\n       </defs>\r\n       <use xlink:href=\"#DejaVuSans-48\"/>\r\n       <use x=\"63.623047\" xlink:href=\"#DejaVuSans-46\"/>\r\n       <use x=\"95.410156\" xlink:href=\"#DejaVuSans-52\"/>\r\n      </g>\r\n     </g>\r\n    </g>\r\n    <g id=\"ytick_6\">\r\n     <g id=\"line2d_20\">\r\n      <path clip-path=\"url(#p03f1e51e39)\" d=\"M 30.103125 185.397989 \r\nL 867.103125 185.397989 \r\n\" style=\"fill:none;stroke:#b0b0b0;stroke-linecap:square;stroke-width:0.8;\"/>\r\n     </g>\r\n     <g id=\"line2d_21\">\r\n      <g>\r\n       <use style=\"stroke:#000000;stroke-width:0.8;\" x=\"30.103125\" xlink:href=\"#m1277557cd1\" y=\"185.397989\"/>\r\n      </g>\r\n     </g>\r\n     <g id=\"text_15\">\r\n      <!-- 0.5 -->\r\n      <g transform=\"translate(7.2 189.197208)scale(0.1 -0.1)\">\r\n       <use xlink:href=\"#DejaVuSans-48\"/>\r\n       <use x=\"63.623047\" xlink:href=\"#DejaVuSans-46\"/>\r\n       <use x=\"95.410156\" xlink:href=\"#DejaVuSans-53\"/>\r\n      </g>\r\n     </g>\r\n    </g>\r\n    <g id=\"ytick_7\">\r\n     <g id=\"line2d_22\">\r\n      <path clip-path=\"url(#p03f1e51e39)\" d=\"M 30.103125 155.74436 \r\nL 867.103125 155.74436 \r\n\" style=\"fill:none;stroke:#b0b0b0;stroke-linecap:square;stroke-width:0.8;\"/>\r\n     </g>\r\n     <g id=\"line2d_23\">\r\n      <g>\r\n       <use style=\"stroke:#000000;stroke-width:0.8;\" x=\"30.103125\" xlink:href=\"#m1277557cd1\" y=\"155.74436\"/>\r\n      </g>\r\n     </g>\r\n     <g id=\"text_16\">\r\n      <!-- 0.6 -->\r\n      <g transform=\"translate(7.2 159.543579)scale(0.1 -0.1)\">\r\n       <defs>\r\n        <path d=\"M 33.015625 40.375 \r\nQ 26.375 40.375 22.484375 35.828125 \r\nQ 18.609375 31.296875 18.609375 23.390625 \r\nQ 18.609375 15.53125 22.484375 10.953125 \r\nQ 26.375 6.390625 33.015625 6.390625 \r\nQ 39.65625 6.390625 43.53125 10.953125 \r\nQ 47.40625 15.53125 47.40625 23.390625 \r\nQ 47.40625 31.296875 43.53125 35.828125 \r\nQ 39.65625 40.375 33.015625 40.375 \r\nz\r\nM 52.59375 71.296875 \r\nL 52.59375 62.3125 \r\nQ 48.875 64.0625 45.09375 64.984375 \r\nQ 41.3125 65.921875 37.59375 65.921875 \r\nQ 27.828125 65.921875 22.671875 59.328125 \r\nQ 17.53125 52.734375 16.796875 39.40625 \r\nQ 19.671875 43.65625 24.015625 45.921875 \r\nQ 28.375 48.1875 33.59375 48.1875 \r\nQ 44.578125 48.1875 50.953125 41.515625 \r\nQ 57.328125 34.859375 57.328125 23.390625 \r\nQ 57.328125 12.15625 50.6875 5.359375 \r\nQ 44.046875 -1.421875 33.015625 -1.421875 \r\nQ 20.359375 -1.421875 13.671875 8.265625 \r\nQ 6.984375 17.96875 6.984375 36.375 \r\nQ 6.984375 53.65625 15.1875 63.9375 \r\nQ 23.390625 74.21875 37.203125 74.21875 \r\nQ 40.921875 74.21875 44.703125 73.484375 \r\nQ 48.484375 72.75 52.59375 71.296875 \r\nz\r\n\" id=\"DejaVuSans-54\"/>\r\n       </defs>\r\n       <use xlink:href=\"#DejaVuSans-48\"/>\r\n       <use x=\"63.623047\" xlink:href=\"#DejaVuSans-46\"/>\r\n       <use x=\"95.410156\" xlink:href=\"#DejaVuSans-54\"/>\r\n      </g>\r\n     </g>\r\n    </g>\r\n    <g id=\"ytick_8\">\r\n     <g id=\"line2d_24\">\r\n      <path clip-path=\"url(#p03f1e51e39)\" d=\"M 30.103125 126.090732 \r\nL 867.103125 126.090732 \r\n\" style=\"fill:none;stroke:#b0b0b0;stroke-linecap:square;stroke-width:0.8;\"/>\r\n     </g>\r\n     <g id=\"line2d_25\">\r\n      <g>\r\n       <use style=\"stroke:#000000;stroke-width:0.8;\" x=\"30.103125\" xlink:href=\"#m1277557cd1\" y=\"126.090732\"/>\r\n      </g>\r\n     </g>\r\n     <g id=\"text_17\">\r\n      <!-- 0.7 -->\r\n      <g transform=\"translate(7.2 129.88995)scale(0.1 -0.1)\">\r\n       <use xlink:href=\"#DejaVuSans-48\"/>\r\n       <use x=\"63.623047\" xlink:href=\"#DejaVuSans-46\"/>\r\n       <use x=\"95.410156\" xlink:href=\"#DejaVuSans-55\"/>\r\n      </g>\r\n     </g>\r\n    </g>\r\n    <g id=\"ytick_9\">\r\n     <g id=\"line2d_26\">\r\n      <path clip-path=\"url(#p03f1e51e39)\" d=\"M 30.103125 96.437103 \r\nL 867.103125 96.437103 \r\n\" style=\"fill:none;stroke:#b0b0b0;stroke-linecap:square;stroke-width:0.8;\"/>\r\n     </g>\r\n     <g id=\"line2d_27\">\r\n      <g>\r\n       <use style=\"stroke:#000000;stroke-width:0.8;\" x=\"30.103125\" xlink:href=\"#m1277557cd1\" y=\"96.437103\"/>\r\n      </g>\r\n     </g>\r\n     <g id=\"text_18\">\r\n      <!-- 0.8 -->\r\n      <g transform=\"translate(7.2 100.236322)scale(0.1 -0.1)\">\r\n       <defs>\r\n        <path d=\"M 31.78125 34.625 \r\nQ 24.75 34.625 20.71875 30.859375 \r\nQ 16.703125 27.09375 16.703125 20.515625 \r\nQ 16.703125 13.921875 20.71875 10.15625 \r\nQ 24.75 6.390625 31.78125 6.390625 \r\nQ 38.8125 6.390625 42.859375 10.171875 \r\nQ 46.921875 13.96875 46.921875 20.515625 \r\nQ 46.921875 27.09375 42.890625 30.859375 \r\nQ 38.875 34.625 31.78125 34.625 \r\nz\r\nM 21.921875 38.8125 \r\nQ 15.578125 40.375 12.03125 44.71875 \r\nQ 8.5 49.078125 8.5 55.328125 \r\nQ 8.5 64.0625 14.71875 69.140625 \r\nQ 20.953125 74.21875 31.78125 74.21875 \r\nQ 42.671875 74.21875 48.875 69.140625 \r\nQ 55.078125 64.0625 55.078125 55.328125 \r\nQ 55.078125 49.078125 51.53125 44.71875 \r\nQ 48 40.375 41.703125 38.8125 \r\nQ 48.828125 37.15625 52.796875 32.3125 \r\nQ 56.78125 27.484375 56.78125 20.515625 \r\nQ 56.78125 9.90625 50.3125 4.234375 \r\nQ 43.84375 -1.421875 31.78125 -1.421875 \r\nQ 19.734375 -1.421875 13.25 4.234375 \r\nQ 6.78125 9.90625 6.78125 20.515625 \r\nQ 6.78125 27.484375 10.78125 32.3125 \r\nQ 14.796875 37.15625 21.921875 38.8125 \r\nz\r\nM 18.3125 54.390625 \r\nQ 18.3125 48.734375 21.84375 45.5625 \r\nQ 25.390625 42.390625 31.78125 42.390625 \r\nQ 38.140625 42.390625 41.71875 45.5625 \r\nQ 45.3125 48.734375 45.3125 54.390625 \r\nQ 45.3125 60.0625 41.71875 63.234375 \r\nQ 38.140625 66.40625 31.78125 66.40625 \r\nQ 25.390625 66.40625 21.84375 63.234375 \r\nQ 18.3125 60.0625 18.3125 54.390625 \r\nz\r\n\" id=\"DejaVuSans-56\"/>\r\n       </defs>\r\n       <use xlink:href=\"#DejaVuSans-48\"/>\r\n       <use x=\"63.623047\" xlink:href=\"#DejaVuSans-46\"/>\r\n       <use x=\"95.410156\" xlink:href=\"#DejaVuSans-56\"/>\r\n      </g>\r\n     </g>\r\n    </g>\r\n    <g id=\"ytick_10\">\r\n     <g id=\"line2d_28\">\r\n      <path clip-path=\"url(#p03f1e51e39)\" d=\"M 30.103125 66.783474 \r\nL 867.103125 66.783474 \r\n\" style=\"fill:none;stroke:#b0b0b0;stroke-linecap:square;stroke-width:0.8;\"/>\r\n     </g>\r\n     <g id=\"line2d_29\">\r\n      <g>\r\n       <use style=\"stroke:#000000;stroke-width:0.8;\" x=\"30.103125\" xlink:href=\"#m1277557cd1\" y=\"66.783474\"/>\r\n      </g>\r\n     </g>\r\n     <g id=\"text_19\">\r\n      <!-- 0.9 -->\r\n      <g transform=\"translate(7.2 70.582693)scale(0.1 -0.1)\">\r\n       <defs>\r\n        <path d=\"M 10.984375 1.515625 \r\nL 10.984375 10.5 \r\nQ 14.703125 8.734375 18.5 7.8125 \r\nQ 22.3125 6.890625 25.984375 6.890625 \r\nQ 35.75 6.890625 40.890625 13.453125 \r\nQ 46.046875 20.015625 46.78125 33.40625 \r\nQ 43.953125 29.203125 39.59375 26.953125 \r\nQ 35.25 24.703125 29.984375 24.703125 \r\nQ 19.046875 24.703125 12.671875 31.3125 \r\nQ 6.296875 37.9375 6.296875 49.421875 \r\nQ 6.296875 60.640625 12.9375 67.421875 \r\nQ 19.578125 74.21875 30.609375 74.21875 \r\nQ 43.265625 74.21875 49.921875 64.515625 \r\nQ 56.59375 54.828125 56.59375 36.375 \r\nQ 56.59375 19.140625 48.40625 8.859375 \r\nQ 40.234375 -1.421875 26.421875 -1.421875 \r\nQ 22.703125 -1.421875 18.890625 -0.6875 \r\nQ 15.09375 0.046875 10.984375 1.515625 \r\nz\r\nM 30.609375 32.421875 \r\nQ 37.25 32.421875 41.125 36.953125 \r\nQ 45.015625 41.5 45.015625 49.421875 \r\nQ 45.015625 57.28125 41.125 61.84375 \r\nQ 37.25 66.40625 30.609375 66.40625 \r\nQ 23.96875 66.40625 20.09375 61.84375 \r\nQ 16.21875 57.28125 16.21875 49.421875 \r\nQ 16.21875 41.5 20.09375 36.953125 \r\nQ 23.96875 32.421875 30.609375 32.421875 \r\nz\r\n\" id=\"DejaVuSans-57\"/>\r\n       </defs>\r\n       <use xlink:href=\"#DejaVuSans-48\"/>\r\n       <use x=\"63.623047\" xlink:href=\"#DejaVuSans-46\"/>\r\n       <use x=\"95.410156\" xlink:href=\"#DejaVuSans-57\"/>\r\n      </g>\r\n     </g>\r\n    </g>\r\n    <g id=\"ytick_11\">\r\n     <g id=\"line2d_30\">\r\n      <path clip-path=\"url(#p03f1e51e39)\" d=\"M 30.103125 37.129845 \r\nL 867.103125 37.129845 \r\n\" style=\"fill:none;stroke:#b0b0b0;stroke-linecap:square;stroke-width:0.8;\"/>\r\n     </g>\r\n     <g id=\"line2d_31\">\r\n      <g>\r\n       <use style=\"stroke:#000000;stroke-width:0.8;\" x=\"30.103125\" xlink:href=\"#m1277557cd1\" y=\"37.129845\"/>\r\n      </g>\r\n     </g>\r\n     <g id=\"text_20\">\r\n      <!-- 1.0 -->\r\n      <g transform=\"translate(7.2 40.929064)scale(0.1 -0.1)\">\r\n       <use xlink:href=\"#DejaVuSans-49\"/>\r\n       <use x=\"63.623047\" xlink:href=\"#DejaVuSans-46\"/>\r\n       <use x=\"95.410156\" xlink:href=\"#DejaVuSans-48\"/>\r\n      </g>\r\n     </g>\r\n    </g>\r\n   </g>\r\n   <g id=\"line2d_32\">\r\n    <path clip-path=\"url(#p03f1e51e39)\" d=\"M 68.14858 333.65267 \r\nL 161.834083 333.508638 \r\nL 199.155951 333.246865 \r\nL 223.529415 332.872006 \r\nL 241.809513 332.384878 \r\nL 257.042928 331.758779 \r\nL 269.229661 331.045819 \r\nL 279.893051 330.208989 \r\nL 289.0331 329.285096 \r\nL 297.411479 328.2268 \r\nL 305.028186 327.049388 \r\nL 311.883223 325.779159 \r\nL 318.73826 324.272981 \r\nL 324.831626 322.703421 \r\nL 330.924992 320.883267 \r\nL 336.256688 319.056974 \r\nL 341.588383 316.985097 \r\nL 346.158408 314.992247 \r\nL 350.728432 312.779086 \r\nL 355.298457 310.325661 \r\nL 359.868481 307.611293 \r\nL 364.438506 304.614827 \r\nL 369.00853 301.314966 \r\nL 373.578555 297.690695 \r\nL 377.386909 294.408028 \r\nL 381.195263 290.875017 \r\nL 385.003616 287.081626 \r\nL 388.81197 283.019074 \r\nL 392.620324 278.680174 \r\nL 397.190349 273.101472 \r\nL 401.760373 267.112719 \r\nL 406.330398 260.71486 \r\nL 410.900422 253.915242 \r\nL 415.470447 246.728283 \r\nL 420.802142 237.883683 \r\nL 426.133838 228.590369 \r\nL 432.227204 217.50072 \r\nL 439.843911 203.105253 \r\nL 452.792314 177.990754 \r\nL 462.694034 158.994269 \r\nL 469.549071 146.310824 \r\nL 475.642437 135.524212 \r\nL 480.974132 126.545851 \r\nL 485.544157 119.234277 \r\nL 490.114182 112.303578 \r\nL 494.684206 105.770647 \r\nL 499.254231 99.645119 \r\nL 503.824255 93.929992 \r\nL 508.39428 88.622377 \r\nL 512.964304 83.714353 \r\nL 516.772658 79.920961 \r\nL 521.342683 75.711729 \r\nL 525.912707 71.859876 \r\nL 530.482732 68.346039 \r\nL 535.052756 65.149669 \r\nL 539.622781 62.249602 \r\nL 544.192806 59.624549 \r\nL 548.76283 57.253478 \r\nL 553.332855 55.115929 \r\nL 558.66455 52.891086 \r\nL 563.996245 50.92782 \r\nL 569.327941 49.198592 \r\nL 575.421307 47.476414 \r\nL 581.514673 45.992331 \r\nL 588.36971 44.56904 \r\nL 595.224747 43.369368 \r\nL 602.841454 42.257894 \r\nL 611.219833 41.259303 \r\nL 620.359882 40.387873 \r\nL 631.023272 39.598834 \r\nL 643.210005 38.926797 \r\nL 657.681749 38.36107 \r\nL 675.200177 37.908289 \r\nL 698.050299 37.557571 \r\nL 729.278801 37.318381 \r\nL 780.310742 37.179236 \r\nL 829.05767 37.14358 \r\nL 829.05767 37.14358 \r\n\" style=\"fill:none;stroke:#1f77b4;stroke-linecap:square;stroke-width:5;\"/>\r\n   </g>\r\n   <g id=\"patch_3\">\r\n    <path d=\"M 30.103125 348.478125 \r\nL 30.103125 22.318125 \r\n\" style=\"fill:none;stroke:#000000;stroke-linecap:square;stroke-linejoin:miter;stroke-width:0.8;\"/>\r\n   </g>\r\n   <g id=\"patch_4\">\r\n    <path d=\"M 867.103125 348.478125 \r\nL 867.103125 22.318125 \r\n\" style=\"fill:none;stroke:#000000;stroke-linecap:square;stroke-linejoin:miter;stroke-width:0.8;\"/>\r\n   </g>\r\n   <g id=\"patch_5\">\r\n    <path d=\"M 30.103125 348.478125 \r\nL 867.103125 348.478125 \r\n\" style=\"fill:none;stroke:#000000;stroke-linecap:square;stroke-linejoin:miter;stroke-width:0.8;\"/>\r\n   </g>\r\n   <g id=\"patch_6\">\r\n    <path d=\"M 30.103125 22.318125 \r\nL 867.103125 22.318125 \r\n\" style=\"fill:none;stroke:#000000;stroke-linecap:square;stroke-linejoin:miter;stroke-width:0.8;\"/>\r\n   </g>\r\n   <g id=\"text_21\">\r\n    <!-- Sigmoid Function -->\r\n    <g transform=\"translate(396.901875 16.318125)scale(0.12 -0.12)\">\r\n     <defs>\r\n      <path d=\"M 53.515625 70.515625 \r\nL 53.515625 60.890625 \r\nQ 47.90625 63.578125 42.921875 64.890625 \r\nQ 37.9375 66.21875 33.296875 66.21875 \r\nQ 25.25 66.21875 20.875 63.09375 \r\nQ 16.5 59.96875 16.5 54.203125 \r\nQ 16.5 49.359375 19.40625 46.890625 \r\nQ 22.3125 44.4375 30.421875 42.921875 \r\nL 36.375 41.703125 \r\nQ 47.40625 39.59375 52.65625 34.296875 \r\nQ 57.90625 29 57.90625 20.125 \r\nQ 57.90625 9.515625 50.796875 4.046875 \r\nQ 43.703125 -1.421875 29.984375 -1.421875 \r\nQ 24.8125 -1.421875 18.96875 -0.25 \r\nQ 13.140625 0.921875 6.890625 3.21875 \r\nL 6.890625 13.375 \r\nQ 12.890625 10.015625 18.65625 8.296875 \r\nQ 24.421875 6.59375 29.984375 6.59375 \r\nQ 38.421875 6.59375 43.015625 9.90625 \r\nQ 47.609375 13.234375 47.609375 19.390625 \r\nQ 47.609375 24.75 44.3125 27.78125 \r\nQ 41.015625 30.8125 33.5 32.328125 \r\nL 27.484375 33.5 \r\nQ 16.453125 35.6875 11.515625 40.375 \r\nQ 6.59375 45.0625 6.59375 53.421875 \r\nQ 6.59375 63.09375 13.40625 68.65625 \r\nQ 20.21875 74.21875 32.171875 74.21875 \r\nQ 37.3125 74.21875 42.625 73.28125 \r\nQ 47.953125 72.359375 53.515625 70.515625 \r\nz\r\n\" id=\"DejaVuSans-83\"/>\r\n      <path d=\"M 9.421875 54.6875 \r\nL 18.40625 54.6875 \r\nL 18.40625 0 \r\nL 9.421875 0 \r\nz\r\nM 9.421875 75.984375 \r\nL 18.40625 75.984375 \r\nL 18.40625 64.59375 \r\nL 9.421875 64.59375 \r\nz\r\n\" id=\"DejaVuSans-105\"/>\r\n      <path d=\"M 45.40625 27.984375 \r\nQ 45.40625 37.75 41.375 43.109375 \r\nQ 37.359375 48.484375 30.078125 48.484375 \r\nQ 22.859375 48.484375 18.828125 43.109375 \r\nQ 14.796875 37.75 14.796875 27.984375 \r\nQ 14.796875 18.265625 18.828125 12.890625 \r\nQ 22.859375 7.515625 30.078125 7.515625 \r\nQ 37.359375 7.515625 41.375 12.890625 \r\nQ 45.40625 18.265625 45.40625 27.984375 \r\nz\r\nM 54.390625 6.78125 \r\nQ 54.390625 -7.171875 48.1875 -13.984375 \r\nQ 42 -20.796875 29.203125 -20.796875 \r\nQ 24.46875 -20.796875 20.265625 -20.09375 \r\nQ 16.0625 -19.390625 12.109375 -17.921875 \r\nL 12.109375 -9.1875 \r\nQ 16.0625 -11.328125 19.921875 -12.34375 \r\nQ 23.78125 -13.375 27.78125 -13.375 \r\nQ 36.625 -13.375 41.015625 -8.765625 \r\nQ 45.40625 -4.15625 45.40625 5.171875 \r\nL 45.40625 9.625 \r\nQ 42.625 4.78125 38.28125 2.390625 \r\nQ 33.9375 0 27.875 0 \r\nQ 17.828125 0 11.671875 7.65625 \r\nQ 5.515625 15.328125 5.515625 27.984375 \r\nQ 5.515625 40.671875 11.671875 48.328125 \r\nQ 17.828125 56 27.875 56 \r\nQ 33.9375 56 38.28125 53.609375 \r\nQ 42.625 51.21875 45.40625 46.390625 \r\nL 45.40625 54.6875 \r\nL 54.390625 54.6875 \r\nz\r\n\" id=\"DejaVuSans-103\"/>\r\n      <path d=\"M 52 44.1875 \r\nQ 55.375 50.25 60.0625 53.125 \r\nQ 64.75 56 71.09375 56 \r\nQ 79.640625 56 84.28125 50.015625 \r\nQ 88.921875 44.046875 88.921875 33.015625 \r\nL 88.921875 0 \r\nL 79.890625 0 \r\nL 79.890625 32.71875 \r\nQ 79.890625 40.578125 77.09375 44.375 \r\nQ 74.3125 48.1875 68.609375 48.1875 \r\nQ 61.625 48.1875 57.5625 43.546875 \r\nQ 53.515625 38.921875 53.515625 30.90625 \r\nL 53.515625 0 \r\nL 44.484375 0 \r\nL 44.484375 32.71875 \r\nQ 44.484375 40.625 41.703125 44.40625 \r\nQ 38.921875 48.1875 33.109375 48.1875 \r\nQ 26.21875 48.1875 22.15625 43.53125 \r\nQ 18.109375 38.875 18.109375 30.90625 \r\nL 18.109375 0 \r\nL 9.078125 0 \r\nL 9.078125 54.6875 \r\nL 18.109375 54.6875 \r\nL 18.109375 46.1875 \r\nQ 21.1875 51.21875 25.484375 53.609375 \r\nQ 29.78125 56 35.6875 56 \r\nQ 41.65625 56 45.828125 52.96875 \r\nQ 50 49.953125 52 44.1875 \r\nz\r\n\" id=\"DejaVuSans-109\"/>\r\n      <path d=\"M 30.609375 48.390625 \r\nQ 23.390625 48.390625 19.1875 42.75 \r\nQ 14.984375 37.109375 14.984375 27.296875 \r\nQ 14.984375 17.484375 19.15625 11.84375 \r\nQ 23.34375 6.203125 30.609375 6.203125 \r\nQ 37.796875 6.203125 41.984375 11.859375 \r\nQ 46.1875 17.53125 46.1875 27.296875 \r\nQ 46.1875 37.015625 41.984375 42.703125 \r\nQ 37.796875 48.390625 30.609375 48.390625 \r\nz\r\nM 30.609375 56 \r\nQ 42.328125 56 49.015625 48.375 \r\nQ 55.71875 40.765625 55.71875 27.296875 \r\nQ 55.71875 13.875 49.015625 6.21875 \r\nQ 42.328125 -1.421875 30.609375 -1.421875 \r\nQ 18.84375 -1.421875 12.171875 6.21875 \r\nQ 5.515625 13.875 5.515625 27.296875 \r\nQ 5.515625 40.765625 12.171875 48.375 \r\nQ 18.84375 56 30.609375 56 \r\nz\r\n\" id=\"DejaVuSans-111\"/>\r\n      <path d=\"M 45.40625 46.390625 \r\nL 45.40625 75.984375 \r\nL 54.390625 75.984375 \r\nL 54.390625 0 \r\nL 45.40625 0 \r\nL 45.40625 8.203125 \r\nQ 42.578125 3.328125 38.25 0.953125 \r\nQ 33.9375 -1.421875 27.875 -1.421875 \r\nQ 17.96875 -1.421875 11.734375 6.484375 \r\nQ 5.515625 14.40625 5.515625 27.296875 \r\nQ 5.515625 40.1875 11.734375 48.09375 \r\nQ 17.96875 56 27.875 56 \r\nQ 33.9375 56 38.25 53.625 \r\nQ 42.578125 51.265625 45.40625 46.390625 \r\nz\r\nM 14.796875 27.296875 \r\nQ 14.796875 17.390625 18.875 11.75 \r\nQ 22.953125 6.109375 30.078125 6.109375 \r\nQ 37.203125 6.109375 41.296875 11.75 \r\nQ 45.40625 17.390625 45.40625 27.296875 \r\nQ 45.40625 37.203125 41.296875 42.84375 \r\nQ 37.203125 48.484375 30.078125 48.484375 \r\nQ 22.953125 48.484375 18.875 42.84375 \r\nQ 14.796875 37.203125 14.796875 27.296875 \r\nz\r\n\" id=\"DejaVuSans-100\"/>\r\n      <path id=\"DejaVuSans-32\"/>\r\n      <path d=\"M 9.8125 72.90625 \r\nL 51.703125 72.90625 \r\nL 51.703125 64.59375 \r\nL 19.671875 64.59375 \r\nL 19.671875 43.109375 \r\nL 48.578125 43.109375 \r\nL 48.578125 34.8125 \r\nL 19.671875 34.8125 \r\nL 19.671875 0 \r\nL 9.8125 0 \r\nz\r\n\" id=\"DejaVuSans-70\"/>\r\n      <path d=\"M 8.5 21.578125 \r\nL 8.5 54.6875 \r\nL 17.484375 54.6875 \r\nL 17.484375 21.921875 \r\nQ 17.484375 14.15625 20.5 10.265625 \r\nQ 23.53125 6.390625 29.59375 6.390625 \r\nQ 36.859375 6.390625 41.078125 11.03125 \r\nQ 45.3125 15.671875 45.3125 23.6875 \r\nL 45.3125 54.6875 \r\nL 54.296875 54.6875 \r\nL 54.296875 0 \r\nL 45.3125 0 \r\nL 45.3125 8.40625 \r\nQ 42.046875 3.421875 37.71875 1 \r\nQ 33.40625 -1.421875 27.6875 -1.421875 \r\nQ 18.265625 -1.421875 13.375 4.4375 \r\nQ 8.5 10.296875 8.5 21.578125 \r\nz\r\nM 31.109375 56 \r\nz\r\n\" id=\"DejaVuSans-117\"/>\r\n      <path d=\"M 54.890625 33.015625 \r\nL 54.890625 0 \r\nL 45.90625 0 \r\nL 45.90625 32.71875 \r\nQ 45.90625 40.484375 42.875 44.328125 \r\nQ 39.84375 48.1875 33.796875 48.1875 \r\nQ 26.515625 48.1875 22.3125 43.546875 \r\nQ 18.109375 38.921875 18.109375 30.90625 \r\nL 18.109375 0 \r\nL 9.078125 0 \r\nL 9.078125 54.6875 \r\nL 18.109375 54.6875 \r\nL 18.109375 46.1875 \r\nQ 21.34375 51.125 25.703125 53.5625 \r\nQ 30.078125 56 35.796875 56 \r\nQ 45.21875 56 50.046875 50.171875 \r\nQ 54.890625 44.34375 54.890625 33.015625 \r\nz\r\n\" id=\"DejaVuSans-110\"/>\r\n      <path d=\"M 48.78125 52.59375 \r\nL 48.78125 44.1875 \r\nQ 44.96875 46.296875 41.140625 47.34375 \r\nQ 37.3125 48.390625 33.40625 48.390625 \r\nQ 24.65625 48.390625 19.8125 42.84375 \r\nQ 14.984375 37.3125 14.984375 27.296875 \r\nQ 14.984375 17.28125 19.8125 11.734375 \r\nQ 24.65625 6.203125 33.40625 6.203125 \r\nQ 37.3125 6.203125 41.140625 7.25 \r\nQ 44.96875 8.296875 48.78125 10.40625 \r\nL 48.78125 2.09375 \r\nQ 45.015625 0.34375 40.984375 -0.53125 \r\nQ 36.96875 -1.421875 32.421875 -1.421875 \r\nQ 20.0625 -1.421875 12.78125 6.34375 \r\nQ 5.515625 14.109375 5.515625 27.296875 \r\nQ 5.515625 40.671875 12.859375 48.328125 \r\nQ 20.21875 56 33.015625 56 \r\nQ 37.15625 56 41.109375 55.140625 \r\nQ 45.0625 54.296875 48.78125 52.59375 \r\nz\r\n\" id=\"DejaVuSans-99\"/>\r\n      <path d=\"M 18.3125 70.21875 \r\nL 18.3125 54.6875 \r\nL 36.8125 54.6875 \r\nL 36.8125 47.703125 \r\nL 18.3125 47.703125 \r\nL 18.3125 18.015625 \r\nQ 18.3125 11.328125 20.140625 9.421875 \r\nQ 21.96875 7.515625 27.59375 7.515625 \r\nL 36.8125 7.515625 \r\nL 36.8125 0 \r\nL 27.59375 0 \r\nQ 17.1875 0 13.234375 3.875 \r\nQ 9.28125 7.765625 9.28125 18.015625 \r\nL 9.28125 47.703125 \r\nL 2.6875 47.703125 \r\nL 2.6875 54.6875 \r\nL 9.28125 54.6875 \r\nL 9.28125 70.21875 \r\nz\r\n\" id=\"DejaVuSans-116\"/>\r\n     </defs>\r\n     <use xlink:href=\"#DejaVuSans-83\"/>\r\n     <use x=\"63.476562\" xlink:href=\"#DejaVuSans-105\"/>\r\n     <use x=\"91.259766\" xlink:href=\"#DejaVuSans-103\"/>\r\n     <use x=\"154.736328\" xlink:href=\"#DejaVuSans-109\"/>\r\n     <use x=\"252.148438\" xlink:href=\"#DejaVuSans-111\"/>\r\n     <use x=\"313.330078\" xlink:href=\"#DejaVuSans-105\"/>\r\n     <use x=\"341.113281\" xlink:href=\"#DejaVuSans-100\"/>\r\n     <use x=\"404.589844\" xlink:href=\"#DejaVuSans-32\"/>\r\n     <use x=\"436.376953\" xlink:href=\"#DejaVuSans-70\"/>\r\n     <use x=\"488.396484\" xlink:href=\"#DejaVuSans-117\"/>\r\n     <use x=\"551.775391\" xlink:href=\"#DejaVuSans-110\"/>\r\n     <use x=\"615.154297\" xlink:href=\"#DejaVuSans-99\"/>\r\n     <use x=\"670.134766\" xlink:href=\"#DejaVuSans-116\"/>\r\n     <use x=\"709.34375\" xlink:href=\"#DejaVuSans-105\"/>\r\n     <use x=\"737.126953\" xlink:href=\"#DejaVuSans-111\"/>\r\n     <use x=\"798.308594\" xlink:href=\"#DejaVuSans-110\"/>\r\n    </g>\r\n   </g>\r\n  </g>\r\n </g>\r\n <defs>\r\n  <clipPath id=\"p03f1e51e39\">\r\n   <rect height=\"326.16\" width=\"837\" x=\"30.103125\" y=\"22.318125\"/>\r\n  </clipPath>\r\n </defs>\r\n</svg>\r\n",
      "image/png": "[encoded data removed]"
     },
     "metadata": {
      "needs_background": "light"
     }
    }
   ],
   "source": [
    "x = np.arange(-10, 10, .02)\n",
    "y = [sigmoid(val) for val in x]\n",
    "plt.figure(figsize=(15,6))\n",
    "plt.plot(x,y, lw=5)\n",
    "plt.yticks([0, .1, .2, .3, .4, .5, .6, .7, .8, .9, 1])\n",
    "plt.grid(axis='y')\n",
    "plt.title('Sigmoid Function');"
   ]
  },
  {
   "cell_type": "markdown",
   "metadata": {},
   "source": [
    "Using the sigmoid function, the output predictions are an array of float values between 0 and 1. To get them into discreet form, the standard convention is to say \"if the probability is greater than .5, then we predict `1` else we predict `0`.\n",
    "> As a side note, this threshold can be adjusted. Sometimes, if the cost of a false prediction for a particular class is large, adjusting this threshold to make it easier or hard to predict 1 is a good idea."
   ]
  },
  {
   "cell_type": "code",
   "execution_count": 6,
   "metadata": {
    "ExecuteTime": {
     "end_time": "2021-04-06T03:08:24.921517Z",
     "start_time": "2021-04-06T03:08:24.916330Z"
    }
   },
   "outputs": [
    {
     "output_type": "stream",
     "name": "stdout",
     "text": [
      "Predicted Probabilities:\n [0.018525156851487683, 9.962097948136053e-07, 1.0, 3.649789826958342e-63, 0.9999969936730123, 1.0, 2.630885920340407e-35, 2.712104838543155e-102, 7.045546871402357e-58, 2.2696518295311405e-76]\n\nPredictions:\n [0, 0, 1, 0, 1, 1, 0, 0, 0, 0]\n"
     ]
    }
   ],
   "source": [
    "sample = np.random.normal(0, scale=100, size=10)\n",
    "predicted_probs = [sigmoid(_) for _ in sample]\n",
    "predictions = [1 if _ > .5 else 0 for _ in predicted_probs]\n",
    "print('Predicted Probabilities:\\n', predicted_probs)\n",
    "print()\n",
    "print('Predictions:\\n', predictions)"
   ]
  },
  {
   "cell_type": "markdown",
   "metadata": {},
   "source": [
    "### The Cost Function\n",
    "\n",
    "The **loss function** for logistic regression is:\n",
    "\n",
    "$\\mathcal{L}(y_i, \\hat{y_i})= y_ilog(\\hat{y_i}) + (1-y_i)log(1-\\hat{y_i})$\n",
    "\n",
    "The **cost function** for logistic regression is:\n",
    "\n",
    "$\\mathcal{J} = \\frac{1}{m}\\sum_{i=1}^{m}y_ilog(\\hat{y_i}) + (1-y_i)log(1-\\hat{y_i})$\n",
    "\n",
    "#### Derivatives\n",
    "> Finding the partial derivatives for a cost function is not necessary to be a skilled machine learning practicioner. Given that, we will not be breaking down how these derivates are found in this notebook. [This video](https://www.youtube.com/watch?v=0VMK18nphpg) is a decent breakdown for both derivatives if you would like to dig into the calculus. \n",
    "\n",
    "The **derivative for the weights vector** `W` is:\n",
    "\n",
    "$X(Y-\\sigma(WX + b))$\n",
    "\n",
    "The **derivative for the intercept** `b` is:\n",
    "\n",
    "$\\frac{1}{m}\\sum_{i=1}^{m}\\sigma(w_ix_i + b)-y_i$"
   ]
  },
  {
   "cell_type": "markdown",
   "metadata": {},
   "source": [
    "# Code Logistic Regression from scratch"
   ]
  },
  {
   "cell_type": "markdown",
   "metadata": {},
   "source": [
    "Let's create a few functions. \n",
    "> Small note: Many of these functions will use `.T`. This returns the [transpose](https://mathinsight.org/matrix_transpose) of a numpy array, and is oftentimes used to make the shapes compatible between two arrays of data. \n",
    "\n",
    "1. `predict_proba`\n",
    "    - This function should:\n",
    "        1. Receive an `X` matrix, a `W` vector, and a `b` scaler.\n",
    "        2. Multiply `X` and `W` and add the `b` scaler\n",
    "        3. Pass the output of the previous step into the sigmoid function, return the result. "
   ]
  },
  {
   "cell_type": "code",
   "execution_count": 7,
   "metadata": {
    "ExecuteTime": {
     "end_time": "2021-04-07T14:59:23.854939Z",
     "start_time": "2021-04-07T14:59:23.848803Z"
    }
   },
   "outputs": [],
   "source": [
    "# STEP A: Receive an X matrix, a W vector, and a b scalar.\n",
    "def predict_proba(X, W, b):\n",
    "    # STEP B: Multiply X and W and add the b scalar\n",
    "    Z = np.dot(W, X.T) + b\n",
    "    # STEP C: Pass the output of the previous \n",
    "    #         step into the sigmoid function,\n",
    "    #         return the result.\n",
    "    return 1/(1 + np.exp(-Z))"
   ]
  },
  {
   "cell_type": "markdown",
   "metadata": {},
   "source": [
    "2. `gradient_descent`\n",
    "    - This function should\n",
    "        1. Receive an `X` matrix, a `Y` vector, a `W` vector, `b` scaler, and an `alpha` scaler for the learning rate.\n",
    "        2. Use the `predict_proba` function to output a vector of probabilities\n",
    "        3. Calculate the difference between the probabilities and the Y vector\n",
    "        4. Find the derivative for `W` by multiplying the `X` matrix with output from step C and then dividing by the number of observations in the X matrix\n",
    "        5. Find the derivative for `b` by calculating the sum of the output from step C and then dividing by the number of observations in `X`.\n",
    "        6. Update the `W` vector by multiplying `alpha` with the derivative for `W` (step D) and then subtracting that from `W`.\n",
    "        7. Update `b` by multiplying `alpha` with the derivative for `b` (step E) and then subtracting that from `b`.\n",
    "        8. Return the updated versions of `W` and `b`."
   ]
  },
  {
   "cell_type": "code",
   "execution_count": 8,
   "metadata": {
    "ExecuteTime": {
     "end_time": "2021-04-07T14:59:23.854939Z",
     "start_time": "2021-04-07T14:59:23.848803Z"
    }
   },
   "outputs": [],
   "source": [
    "# STEP A: Receive an X matrix, a Y vector, \n",
    "#         a W vector, b scaler, and an alpha \n",
    "#         scaler for the learning rate.\n",
    "def gradient_descent(X, Y, W, b, alpha=.001):  \n",
    "    # STEP B: Use the predict_proba function \n",
    "    #         to output a vector of probabilities\n",
    "    A = predict_proba(X, W, b) \n",
    "    # STEP C: Calculate the difference between \n",
    "    #         the probabilities and the Y vector\n",
    "    dZ = (A - Y.T).T \n",
    "    # STEP D: Find the derivative for W by multiplying the X matrix \n",
    "    #         with output from step C and then dividing by the number \n",
    "    #         of observations in the X matrix\n",
    "    dW = np.dot(X.T, dZ)/len(X)\n",
    "    # STEP E: Find the derivative for b by calculating \n",
    "    #         the sum of the output from step C and then \n",
    "    #         dividing by the number of observations in X\n",
    "    db = np.sum(dZ)/len(X)\n",
    "\n",
    "    # STEP F: Update the W vector by multiplying alpha \n",
    "    #         with the derivative for W (step D) \n",
    "    #         and then subtracting that from W\n",
    "    W = W - alpha * dW  \n",
    "    # STEP G: Update b by multiplying alpha with the \n",
    "    #         derivative for b (step E) and then \n",
    "    #         subtracting that from b\n",
    "    b = b - alpha * db\n",
    "    \n",
    "    # STEP H: Return the updated versions of W and b\n",
    "    return W, b"
   ]
  },
  {
   "cell_type": "markdown",
   "metadata": {},
   "source": [
    "3. `predict`\n",
    "    - This function should:\n",
    "        1. Receive an `X` matrix, a `W` vector, a `b` scaler.\n",
    "        2. Pass all arguments into `predict_proba` to produce probabilities\n",
    "        3.  Return a list containing 1s where the probability is greater than .5 and 0 if the probability is less than or equal to .5."
   ]
  },
  {
   "cell_type": "code",
   "execution_count": 9,
   "metadata": {
    "ExecuteTime": {
     "end_time": "2021-04-07T14:59:23.854939Z",
     "start_time": "2021-04-07T14:59:23.848803Z"
    }
   },
   "outputs": [],
   "source": [
    "# STEP A: Receive an X matrix, a W vector, a b scaler.\n",
    "def predict(X, W, b, threshold = 0.5): \n",
    "    # STEP B: Pass all arguments into predict_proba \n",
    "    #         to produce probabilities\n",
    "    A = predict_proba(X, W, b)\n",
    "    # STEP C: Return a list containing 1s \n",
    "    #         where the probability is greater than .5 \n",
    "    #         and 0 if the probability is less than or equal to .5.\n",
    "    Y = np.where(A > threshold, 1, 0) \n",
    "    return Y"
   ]
  },
  {
   "cell_type": "markdown",
   "metadata": {},
   "source": [
    "That is all we need to create a Logistic Regression model!\n",
    "\n",
    "Let's run our code on some data..."
   ]
  },
  {
   "cell_type": "code",
   "execution_count": 10,
   "metadata": {
    "ExecuteTime": {
     "end_time": "2021-04-07T14:58:12.419597Z",
     "start_time": "2021-04-07T14:58:12.387854Z"
    }
   },
   "outputs": [],
   "source": [
    "data = make_classification()\n",
    "\n",
    "X = data[0]\n",
    "Y = data[1]\n",
    "W = np.zeros(X.shape[1])\n",
    "b = 0\n",
    "\n",
    "iterations = 1000\n",
    "\n",
    "for i in range(iterations):\n",
    "    W, b = gradient_descent(X, Y, W, b)"
   ]
  },
  {
   "cell_type": "code",
   "execution_count": 11,
   "metadata": {
    "ExecuteTime": {
     "end_time": "2021-04-07T15:00:31.565797Z",
     "start_time": "2021-04-07T15:00:31.561717Z"
    }
   },
   "outputs": [
    {
     "output_type": "execute_result",
     "data": {
      "text/plain": [
       "0.89"
      ]
     },
     "metadata": {},
     "execution_count": 11
    }
   ],
   "source": [
    "y_hat = predict(X, W, b)\n",
    "accuracy_score(Y, y_hat)"
   ]
  },
  {
   "cell_type": "markdown",
   "metadata": {},
   "source": [
    "What's even better is we could move this code into a `class`. This allows us to more easily access our model, allows the numbers of inputs to our functions to be simpler since we can store variables like `W` as class attributes, and mirrors the sklearn workflow we've become accustomed to. "
   ]
  },
  {
   "cell_type": "code",
   "execution_count": 12,
   "metadata": {
    "ExecuteTime": {
     "end_time": "2021-04-07T15:56:42.768492Z",
     "start_time": "2021-04-07T15:56:42.757633Z"
    }
   },
   "outputs": [],
   "source": [
    "class LogisticRegression:\n",
    "    \n",
    "    \"\"\"\n",
    "    Implementation of Logistic Regression\n",
    "    \n",
    "    iterations: The number of iterations\n",
    "                used in gradient descent to\n",
    "                reach the minima of the \n",
    "                cost function\n",
    "    \n",
    "    alpha:      The learning rate used to\n",
    "                adjust the stepsize proportional\n",
    "                to the gradient.\n",
    "                \n",
    "    \n",
    "    \"\"\"\n",
    "    \n",
    "    def __init__(self, iterations=1000, alpha=.001):  \n",
    "        \"\"\"\n",
    "        Initialize model hyper parameters\n",
    "        \"\"\"\n",
    "        self.iterations = iterations\n",
    "        self.alpha = alpha       \n",
    "        \n",
    "    def fit(self, X, Y): \n",
    "        self.X = X        \n",
    "        self.Y = Y\n",
    "        self.b = 0  \n",
    "        self.m, self.n = X.shape  \n",
    "        self.W = np.zeros(self.n)        \n",
    "\n",
    "        for i in range(self.iterations):            \n",
    "            self.gradient_descent()            \n",
    "           \n",
    "    def gradient_descent(self):           \n",
    "        A = self.predict_proba(self.X)       \n",
    "        dZ = (A - self.Y.T).T              \n",
    "        dW = np.dot(self.X.T, dZ)/self.m         \n",
    "        db = np.sum(dZ)/self.m \n",
    "          \n",
    "        self.W = self.W - self.alpha * dW    \n",
    "        self.b = self.b - self.alpha * db\n",
    "        \n",
    "    def predict_proba(self, X):\n",
    "        \"\"\"\n",
    "        Returns the probability that an observation\n",
    "        has a class of 1.\n",
    "        \"\"\"\n",
    "        Z = np.dot(self.W, X.T) + self.b\n",
    "        return 1/(1 + np.exp(-Z))\n",
    "      \n",
    "    def predict(self, X , threshold = 0.5): \n",
    "        \"\"\"\n",
    "        Returns an array of 0's and 1's based on\n",
    "        the probability threshold\n",
    "        \n",
    "        threshold: Default = 0.5 - The threshold used for \n",
    "                   determining an obersvation's predicted class.\n",
    "                   Values that receive a prediction greater than the\n",
    "                   threshold receive a prediction of 1. \n",
    "        \"\"\"\n",
    "        A = self.predict_proba(X)   \n",
    "        Y = np.where(A > threshold, 1, 0) \n",
    "        return Y\n",
    "    \n",
    "    def score(self, X, y, threshold=0.5):\n",
    "        \"\"\"\n",
    "        Returns the accuracy score for model predictions\n",
    "        \"\"\"\n",
    "        preds = self.predict(X, threshold=threshold)\n",
    "        return np.sum(preds == np.array(y))/len(preds)"
   ]
  },
  {
   "cell_type": "markdown",
   "metadata": {},
   "source": [
    "Now we can run our model by creating an instance of the `LogisticRegression` class"
   ]
  },
  {
   "cell_type": "code",
   "execution_count": 13,
   "metadata": {
    "ExecuteTime": {
     "end_time": "2021-04-07T15:57:46.134853Z",
     "start_time": "2021-04-07T15:57:46.102992Z"
    }
   },
   "outputs": [
    {
     "output_type": "execute_result",
     "data": {
      "text/plain": [
       "0.89"
      ]
     },
     "metadata": {},
     "execution_count": 13
    }
   ],
   "source": [
    "my_model = LogisticRegression()\n",
    "my_model.fit(X, Y)\n",
    "my_model.score(X, Y)"
   ]
  },
  {
   "cell_type": "markdown",
   "metadata": {},
   "source": [
    "Let's compare our model with sklearn's."
   ]
  },
  {
   "cell_type": "code",
   "execution_count": 14,
   "metadata": {
    "ExecuteTime": {
     "end_time": "2021-04-07T15:58:46.719846Z",
     "start_time": "2021-04-07T15:58:46.712172Z"
    }
   },
   "outputs": [
    {
     "output_type": "execute_result",
     "data": {
      "text/plain": [
       "0.93"
      ]
     },
     "metadata": {},
     "execution_count": 14
    }
   ],
   "source": [
    "from sklearn.linear_model import LogisticRegression as sk_logistic\n",
    "sk_model = sk_logistic()\n",
    "sk_model.fit(X, Y)\n",
    "sk_model.score(X, Y)"
   ]
  },
  {
   "cell_type": "code",
   "execution_count": 70,
   "metadata": {},
   "outputs": [
    {
     "output_type": "stream",
     "name": "stdout",
     "text": [
      "y_obs =\n",
      "[1 0 0 0 1 0 1 1 1 1 1 1 0 1 1 0 0 1 1 0 1 0 1 0 1 1 0 1 1 1 1 1 0 1 1 0 0\n",
      " 0 1 0 1 1 1 1 0 0 0 1 0 1 0 1 0 1 1 1 0 1 1 1 0 1 1 1 0 1 1 0 0 0 0 1 1 1\n",
      " 1 1 1 0 0 1 0 1 0 1 0 0 0 0 0 1 1 0 1 1 0 1 1 1 0 1 1 1 0 1 1 1 0 0 0 0 1\n",
      " 0 0 0 0 1 1 0 0 0 1 1 1 1 0 0 1 1 0 0 1 0 1 0 0 0 1 1 0 0 0 0 0 0 1 1 1 1\n",
      " 1 1 0 0 1 1 0 0 0 0 0 0 1 0 0 1 0 0 0 1 1 0 0 0 1 1 1 0 0 0 0 0 0 0 0 0 1\n",
      " 0 1 0 1 1 1 1 0 1 1 1 0 0 0 0 0 1 0 1 0 0 1 0 0 1 0 1 0 1 0 1 0 1 1 0 1 1\n",
      " 1 0 1 1 0 0 1 1 0 1 0 0 0 0 0 0 0 0 0 0 0 1 1 0 1 1 1 1 0 0 1 0 0 1 1 1 0\n",
      " 1 1 0 0 1 1 0 1 0 0 0 1 0 0 1 1 0 0 1 0 0 1 0 0 1 1 0 1 0 0 1 0 1 1 0 1 1\n",
      " 0 1 0 0 0 1 1 0 1 0 0 1 1 1 0 0 1 0 0 1 1 1 1 1 0 0 1 1 1 1 0 1 1 0 0 1 0\n",
      " 0 0 1 0 1 0 1 1 1 0 0 0 1 0 0 1 0 0 0 1 0 1 0 1 1 0 0 0 0 1 1 1 0 0 0 1 1\n",
      " 1 1 0 1 0 0 1 0 0 1 0 1 1 1 1 0 1 1 0 0 0 0 1 1 0 0 1 1 1 0 0 0 0 1 0 0 0\n",
      " 0 1 0 1 1 1 1 1 1 1 1 0 0 1 1 0 1 1 1 0 1 0 1 1 1 1 1 0 0 0 0 1 0 0 0 1 0\n",
      " 0 1 0 1 1 1 1 1 1 1 0 0 1 1 0 0 1 1 1 1 1 0 0 0 0 0 0 1 0 0 0 0 1 1 0 0 0\n",
      " 1 0 1 1 0 0 0 1 1 1 0 0 0 1 1 0 1 1 0 0 0 0 0 0 1 1 1 0 0 0 0 0 1 1 1 0 1\n",
      " 0 1 1 1 0 1 0 1 0 0 0 1 0 1 1 1 0 0 1 1 0 0 0 0 0 1 0 0 1 1 1 1 0 0 0 1 0\n",
      " 0 0 1 1 1 1 1 1 1 0 1 0 0 1 1 1 1 0 1 0 1 0 1 0 1 0 1 0 0 1 1 0 1 1 1 0 0\n",
      " 0 0 1 0 0 0 1 1 0 1 1 0 1 1 1 1 1 0 1 1 0 1 1 1 0 0 0 0 1 1 1 1 1 0 1 0 0\n",
      " 0 0 1 1 0 0 1 1 1 1 0 1 1 0 0 0 0 1 0 0 1 0 0 0 0 1 1 1 0 0 1 0 1 1 1 0 1\n",
      " 1 1 0 0 1 1 1 1 1 1 1 0 1 1 0 1 0 0 1 1 0 1 1 1 1 0 0 1 1 0 0 1 0 1 1 0 1\n",
      " 1 1 1 0 0 1 0 0 0 0 1 0 0 1 0 1 0 0 1 0 0 0 1 0 0 0 1 1 0 0 1 1 0 1 1 0 1\n",
      " 0 1 1 0 0 1 1 0 0 1 0 0 0 1 0 0 1 0 0 1 1 0 0 1 0 0 1 0 0 0 1 1 1 1 1 0 1\n",
      " 1 1 0 1 0 1 0 1 1 1 0 0 0 1 1 1 0 1 1 0 1 1 1 0 1 0 0 1 0 1 1 1 0 1 1 1 0\n",
      " 1 1 1 0 0 1 0 0 1 1 1 1 0 0 1 1 1 0 1 0 1 0 0 0 1 0 0 0 1 1 1 0 1 0 1 0 0\n",
      " 0 0 1 0 1 1 0 1 1 0 0 0 0 1 1 1 0 1 0 0 1 1 1 1 1 1 1 0 1 0 0 1 1 1 0 0 0\n",
      " 0 0 0 1 1 1 0 1 1 1 0 0 1 1 1 1 1 1 0 1 0 1 1 0 1 1 0 1 1 0 1 0 1 1 0 0 1\n",
      " 0 0 1 1 1 0 0 1 0 1 0 0 1 1 1 0 1 1 1 1 0 0 1 1 0 0 0 1 0 1 1 1 1 0 1 0 1\n",
      " 1 0 0 1 0 1 1 1 0 1 0 0 1 1 1 0 0 1 0 0 1 1 1 0 0 1 0 1 0 0 1 0 1 0 1 0 1\n",
      " 1]\n",
      "\n",
      "y_hat =\n",
      "[0.4 0.3 0.1 0.3 0.5 0.5 0.2 0.3 0.3 0.7 0.8 0.  0.5 0.2 0.6 0.1 0.5 0.6\n",
      " 0.7 0.4 0.1 0.3 0.7 1.  0.2 0.3 0.8 1.  0.4 0.1 0.7 0.3 0.3 0.1 0.5 0.1\n",
      " 0.3 0.  0.9 1.  0.7 0.2 0.1 0.3 0.1 0.2 0.6 1.  0.2 0.9 0.9 0.4 0.7 0.1\n",
      " 0.4 0.2 1.  0.7 0.1 0.9 0.7 0.7 1.  0.4 0.2 0.5 0.6 0.5 0.6 0.7 0.5 0.1\n",
      " 0.1 0.5 0.5 0.2 0.8 0.8 0.6 0.9 1.  0.  0.3 0.8 0.5 0.2 0.5 0.1 0.3 0.6\n",
      " 0.  0.1 0.5 0.5 0.3 0.1 0.2 0.9 0.8 0.3 1.  0.7 0.2 0.  0.1 0.7 0.6 0.4\n",
      " 1.  0.5 0.1 0.5 0.  0.9 0.3 0.4 0.1 0.8 0.9 0.3 1.  0.1 0.9 0.9 0.8 0.2\n",
      " 0.6 1.  0.6 0.6 0.7 1.  0.7 0.  0.4 0.2 0.8 0.3 0.6 0.5 0.1 0.6 0.  0.4\n",
      " 0.  0.6 0.4 0.5 1.  0.2 0.  0.2 1.  0.7 0.4 0.5 0.5 0.6 0.7 0.9 0.2 0.6\n",
      " 0.8 0.3 0.3 0.3 0.3 0.8 1.  0.6 0.6 0.4 1.  0.2 0.  0.2 1.  0.3 0.2 0.5\n",
      " 1.  0.7 0.9 0.  0.2 0.6 0.9 0.6 0.7 0.6 0.7 0.9 0.7 0.4 0.  0.6 0.8 0.3\n",
      " 0.1 0.5 0.2 0.4 0.8 0.2 0.9 1.  0.4 0.4 0.3 0.3 1.  0.6 0.1 0.  0.8 0.6\n",
      " 0.  0.4 0.1 1.  0.5 0.9 0.4 0.3 0.9 0.3 0.1 0.1 0.8 0.1 0.  0.3 0.6 0.1\n",
      " 0.9 0.4 0.7 0.1 0.9 0.6 1.  0.7 0.7 0.2 0.  0.4 0.9 0.3 0.6 0.1 0.4 0.9\n",
      " 0.1 0.5 0.2 0.4 0.7 0.2 0.6 0.  0.7 0.6 0.5 0.  0.9 0.6 0.5 1.  0.5 0.\n",
      " 1.  0.3 0.9 0.9 1.  0.9 0.3 0.4 1.  0.4 0.7 0.5 0.3 0.4 0.  0.  0.6 0.1\n",
      " 0.7 0.8 1.  0.8 0.3 0.7 0.7 0.7 0.5 0.3 0.4 0.  0.8 0.8 0.8 0.1 0.4 0.1\n",
      " 0.5 0.5 0.5 0.9 0.7 0.9 0.8 0.6 0.2 0.6 0.5 0.4 0.  0.  0.2 0.7 1.  0.9\n",
      " 0.3 0.2 0.8 0.8 1.  0.4 0.6 0.8 0.8 0.8 0.8 0.4 1.  0.9 0.9 0.3 0.8 0.7\n",
      " 0.6 0.1 0.9 0.6 0.2 0.3 0.5 0.9 0.3 0.7 0.9 0.  0.2 0.6 0.1 1.  0.7 0.\n",
      " 0.7 0.7 0.5 0.6 0.6 0.9 0.1 1.  0.5 0.4 0.2 0.5 0.6 0.1 1.  0.8 0.9 1.\n",
      " 0.3 0.6 0.7 0.7 0.6 0.6 0.2 0.6 0.2 0.4 0.7 0.4 0.6 1.  0.8 0.7 1.  0.4\n",
      " 0.3 0.5 0.9 0.6 0.6 0.6 0.5 0.8 0.5 0.4 0.2 0.8 0.7 0.  0.9 0.6 0.7 0.2\n",
      " 0.1 0.  0.9 0.9 0.  0.5 0.9 0.1 0.8 0.9 0.8 0.7 0.  0.3 0.3 0.4 0.4 1.\n",
      " 0.9 0.4 0.2 0.5 0.6 0.  0.1 0.4 0.4 0.9 0.  0.5 0.8 0.6 0.3 0.3 0.6 0.3\n",
      " 0.4 0.9 0.3 0.2 0.6 0.3 0.9 0.2 0.5 0.5 0.2 0.9 0.7 0.6 0.9 0.1 0.9 0.3\n",
      " 0.3 0.6 0.2 1.  0.7 0.8 0.  0.1 0.3 0.5 0.5 0.8 1.  0.4 0.8 0.9 1.  0.5\n",
      " 0.8 0.6 0.6 1.  0.6 0.6 0.1 0.7 1.  0.  0.6 0.1 0.3 0.4 0.  0.  0.5 0.6\n",
      " 0.5 0.8 0.4 0.5 0.8 0.9 0.1 1.  0.7 0.9 1.  1.  0.1 0.2 0.  0.4 0.8 0.4\n",
      " 0.7 0.4 0.1 1.  0.2 0.1 0.7 0.3 0.3 1.  0.9 0.5 0.5 0.5 0.3 1.  0.8 0.6\n",
      " 0.7 0.2 0.2 0.7 0.6 0.8 0.3 0.7 0.2 0.9 0.9 1.  0.5 0.1 0.5 0.6 0.3 0.7\n",
      " 0.7 0.3 0.7 0.4 0.8 0.8 0.7 0.5 0.8 0.  0.4 0.  0.6 0.9 0.5 0.3 0.3 1.\n",
      " 0.7 0.5 0.  0.5 0.4 0.2 1.  0.  0.7 0.6 0.3 0.1 0.8 0.9 0.9 1.  1.  0.1\n",
      " 0.  0.2 0.6 0.1 0.2 0.6 1.  0.7 0.1 0.5 0.4 0.6 0.4 0.5 0.7 0.8 0.1 0.1\n",
      " 0.5 0.5 0.1 0.9 0.3 0.8 0.2 0.1 0.1 0.1 1.  0.2 0.  0.7 0.8 0.9 0.7 0.6\n",
      " 0.6 0.3 0.3 0.  0.8 0.3 0.3 0.1 0.  0.8 0.9 1.  0.  0.7 1.  0.7 1.  0.4\n",
      " 0.7 0.9 0.1 0.6 0.7 0.  0.1 0.1 0.6 0.8 0.3 0.6 0.  0.2 0.4 0.5 0.5 0.4\n",
      " 0.9 1.  0.8 0.2 0.2 0.9 0.1 0.9 0.9 0.8 0.9 0.8 0.6 0.1 0.2 0.1 0.6 0.6\n",
      " 0.5 0.2 0.4 0.  0.5 0.8 0.5 0.8 0.6 0.3 0.6 1.  0.7 0.2 1.  0.6 0.  0.5\n",
      " 0.2 0.9 0.9 0.9 0.8 0.1 0.6 0.5 0.7 0.6 0.2 0.2 1.  0.1 0.8 0.8 0.3 0.5\n",
      " 0.  0.  1.  0.7 0.4 1.  0.9 0.7 0.7 0.2 0.9 0.7 0.1 0.9 0.3 0.2 0.9 0.8\n",
      " 0.  0.9 0.5 0.4 0.  0.5 1.  1.  0.7 0.3 0.1 0.1 0.7 0.6 0.3 0.9 0.8 0.7\n",
      " 0.  0.8 0.9 1.  0.6 0.9 0.  0.3 1.  0.8 1.  0.3 0.4 0.7 0.6 0.3 0.1 0.5\n",
      " 0.5 0.2 0.4 0.8 0.3 0.6 0.7 0.8 0.2 0.8 0.2 0.3 0.4 0.  0.2 0.9 0.1 0.8\n",
      " 0.5 0.9 0.6 0.5 0.9 0.7 0.8 0.1 0.3 0.7 1.  0.  0.8 0.4 0.3 0.9 1.  0.7\n",
      " 1.  1.  0.6 0.9 0.  0.7 0.7 1.  0.4 0.9 0.1 0.5 0.2 0.7 0.2 0.6 0.2 1.\n",
      " 0.7 1.  0.8 1.  0.  1.  0.3 1.  0.1 0.7 0.9 0.7 1.  0.7 0.5 0.4 0.8 0.9\n",
      " 0.8 0.2 0.7 0.9 0.2 0.  0.  1.  0.5 0.4 0.8 0.7 0.4 0.7 0.  0.1 0.8 0.9\n",
      " 0.1 0.8 0.2 0.3 0.5 0.3 0.2 0.9 0.2 0.1 0.7 0.3 1.  0.  0.3 0.1 0.1 0.5\n",
      " 0.6 0.7 0.8 0.2 1.  0.4 0.1 1.  0.9 0.7 0.3 0.9 0.1 0.5 0.2 0.6 0.7 0.3\n",
      " 0.4 0.1 0.3 0.9 0.7 0.9 0.4 0.7 0.6 0.4 0.5 0.  0.5 0.9 0.6 0.3 0.1 0.3\n",
      " 0.3 0.4 0.6 0.1 0.7 0.4 0.6 0.2 0.2 0.5 0.6 0.1 0.4 0.8 0.8 0.1 0.4 1.\n",
      " 0.  0.5 0.  0.9 0.4 0.9 1.  0.  0.4 0.2 0.3 0.8 0.6 0.5 0.9 0.3 0.9 0.2\n",
      " 0.1 0.7 0.5 0.7 0.8 0.9 0.2 0.9 0.1 0.6 0.9 0.6 0.5 0.6 0.8 0.5 0.3 0.3\n",
      " 0.4 0.3 0.7 0.3 0.6 0.6 0.1 0.8 0.4 0.4 0.9 0.8 0.  0.8 1.  1.  1.  0.9\n",
      " 0.9 0.2 1.  1.  1.  0.5 0.2 1.  0.8 0.1]\n",
      "\n",
      "S1 =\n",
      "[[0.24 0.   0.   ... 0.   0.   0.  ]\n",
      " [0.   0.21 0.   ... 0.   0.   0.  ]\n",
      " [0.   0.   0.09 ... 0.   0.   0.  ]\n",
      " ...\n",
      " [0.   0.   0.   ... 0.   0.   0.  ]\n",
      " [0.   0.   0.   ... 0.   0.16 0.  ]\n",
      " [0.   0.   0.   ... 0.   0.   0.09]]\n",
      "\n",
      "Runtime1 is 0.2474689483642578\n",
      "S2 =\n",
      "[[0.24 0.   0.   ... 0.   0.   0.  ]\n",
      " [0.   0.21 0.   ... 0.   0.   0.  ]\n",
      " [0.   0.   0.09 ... 0.   0.   0.  ]\n",
      " ...\n",
      " [0.   0.   0.   ... 0.   0.   0.  ]\n",
      " [0.   0.   0.   ... 0.   0.16 0.  ]\n",
      " [0.   0.   0.   ... 0.   0.   0.09]]\n",
      "\n",
      "Runtime2 is 1.3145275115966797\n",
      "ℛ =\n",
      "[ 0.6 -0.3 -0.1 -0.3  0.5 -0.5  0.8  0.7  0.7  0.3  0.2  1.  -0.5  0.8\n",
      "  0.4 -0.1 -0.5  0.4  0.3 -0.4  0.9 -0.3  0.3 -1.   0.8  0.7 -0.8  0.\n",
      "  0.6  0.9  0.3  0.7 -0.3  0.9  0.5 -0.1 -0.3  0.   0.1 -1.   0.3  0.8\n",
      "  0.9  0.7 -0.1 -0.2 -0.6  0.  -0.2  0.1 -0.9  0.6 -0.7  0.9  0.6  0.8\n",
      " -1.   0.3  0.9  0.1 -0.7  0.3  0.   0.6 -0.2  0.5  0.4 -0.5 -0.6 -0.7\n",
      " -0.5  0.9  0.9  0.5  0.5  0.8  0.2 -0.8 -0.6  0.1 -1.   1.  -0.3  0.2\n",
      " -0.5 -0.2 -0.5 -0.1 -0.3  0.4  1.  -0.1  0.5  0.5 -0.3  0.9  0.8  0.1\n",
      " -0.8  0.7  0.   0.3 -0.2  1.   0.9  0.3 -0.6 -0.4 -1.  -0.5  0.9 -0.5\n",
      "  0.  -0.9 -0.3  0.6  0.9 -0.8 -0.9 -0.3  0.   0.9  0.1  0.1 -0.8 -0.2\n",
      "  0.4  0.  -0.6 -0.6  0.3 -1.   0.3  0.  -0.4 -0.2  0.2  0.7 -0.6 -0.5\n",
      " -0.1 -0.6  0.  -0.4  1.   0.4  0.6  0.5  0.   0.8  0.  -0.2  0.   0.3\n",
      " -0.4 -0.5 -0.5 -0.6 -0.7 -0.9  0.8 -0.6 -0.8  0.7 -0.3 -0.3 -0.3  0.2\n",
      "  0.  -0.6 -0.6 -0.4  0.   0.8  1.  -0.2 -1.  -0.3 -0.2 -0.5 -1.  -0.7\n",
      " -0.9  0.   0.8 -0.6  0.1 -0.6  0.3  0.4  0.3  0.1 -0.7  0.6  1.   0.4\n",
      " -0.8 -0.3 -0.1 -0.5 -0.2  0.6 -0.8  0.8 -0.9 -1.   0.6 -0.4 -0.3  0.7\n",
      " -1.   0.4 -0.1  1.  -0.8  0.4  0.   0.6  0.9 -1.   0.5  0.1  0.6 -0.3\n",
      "  0.1  0.7 -0.1 -0.1  0.2  0.9  0.   0.7 -0.6 -0.1 -0.9 -0.4 -0.7 -0.1\n",
      " -0.9 -0.6 -1.  -0.7 -0.7  0.8  1.  -0.4  0.1  0.7  0.4  0.9 -0.4 -0.9\n",
      "  0.9 -0.5 -0.2  0.6  0.3  0.8 -0.6  1.   0.3 -0.6 -0.5  1.   0.1 -0.6\n",
      "  0.5 -1.  -0.5  0.   0.  -0.3 -0.9  0.1  0.  -0.9 -0.3  0.6 -1.  -0.4\n",
      "  0.3 -0.5 -0.3  0.6  1.   0.   0.4 -0.1 -0.7  0.2 -1.   0.2  0.7 -0.7\n",
      "  0.3  0.3 -0.5  0.7 -0.4  0.  -0.8  0.2  0.2 -0.1  0.6 -0.1 -0.5  0.5\n",
      "  0.5  0.1 -0.7 -0.9  0.2 -0.6 -0.2  0.4  0.5  0.6  1.   1.  -0.2 -0.7\n",
      "  0.   0.1  0.7  0.8 -0.8  0.2  0.  -0.4 -0.6  0.2 -0.8 -0.8 -0.8  0.6\n",
      " -1.   0.1 -0.9  0.7  0.2  0.3 -0.6 -0.1 -0.9  0.4 -0.2 -0.3  0.5 -0.9\n",
      " -0.3 -0.7  0.1  0.   0.8 -0.6  0.9  0.  -0.7  0.  -0.7 -0.7  0.5  0.4\n",
      "  0.4 -0.9 -0.1 -1.   0.5  0.6  0.8  0.5 -0.6  0.9 -1.  -0.8  0.1 -1.\n",
      " -0.3  0.4 -0.7  0.3  0.4  0.4  0.8 -0.6  0.8  0.6 -0.7 -0.4 -0.6 -1.\n",
      "  0.2  0.3 -1.  -0.4  0.7  0.5  0.1 -0.6 -0.6 -0.6 -0.5  0.2 -0.5 -0.4\n",
      " -0.2 -0.8  0.3  0.   0.1  0.4  0.3  0.8  0.9  1.   0.1  0.1  0.  -0.5\n",
      "  0.1  0.9 -0.8  0.1  0.2  0.3  0.   0.7 -0.3  0.6  0.6  0.   0.1  0.6\n",
      " -0.2 -0.5 -0.6  0.   0.9 -0.4 -0.4 -0.9  1.  -0.5 -0.8  0.4 -0.3  0.7\n",
      "  0.4  0.7  0.6  0.1  0.7  0.8 -0.6 -0.3  0.1  0.8 -0.5 -0.5  0.8  0.1\n",
      "  0.3  0.4  0.1 -0.1 -0.9 -0.3 -0.3 -0.6 -0.2  0.  -0.7 -0.8  0.  -0.1\n",
      "  0.7  0.5 -0.5 -0.8 -1.   0.6 -0.8  0.1  0.  -0.5 -0.8 -0.6  0.4  0.\n",
      "  0.4 -0.6 -0.1 -0.7  0.   1.  -0.6  0.9  0.7 -0.4  0.   0.  -0.5 -0.6\n",
      " -0.5  0.2  0.6  0.5 -0.8 -0.9 -0.1 -1.  -0.7  0.1  0.   0.  -0.1  0.8\n",
      "  0.   0.6  0.2  0.6 -0.7  0.6 -0.1  0.  -0.2 -0.1 -0.7  0.7 -0.3  0.\n",
      "  0.1  0.5 -0.5 -0.5  0.7  0.  -0.8 -0.6 -0.7 -0.2 -0.2  0.3 -0.6 -0.8\n",
      "  0.7  0.3  0.8  0.1 -0.9 -1.  -0.5  0.9 -0.5 -0.6 -0.3  0.3  0.3  0.7\n",
      "  0.3  0.6  0.2  0.2 -0.7  0.5 -0.8  0.   0.6  1.   0.4  0.1 -0.5  0.7\n",
      " -0.3  0.  -0.7  0.5  0.   0.5 -0.4  0.8 -1.   0.   0.3  0.4 -0.3  0.9\n",
      "  0.2  0.1 -0.9 -1.  -1.  -0.1  1.  -0.2 -0.6 -0.1  0.8  0.4 -1.   0.3\n",
      "  0.9 -0.5  0.6  0.4  0.6  0.5  0.3 -0.8  0.9  0.9 -0.5  0.5  0.9  0.1\n",
      " -0.3 -0.8 -0.2 -0.1  0.9  0.9  0.   0.8  1.  -0.7  0.2 -0.9 -0.7 -0.6\n",
      " -0.6  0.7  0.7  0.  -0.8  0.7  0.7  0.9  1.  -0.8  0.1  0.   0.  -0.7\n",
      " -1.  -0.7  0.  -0.4 -0.7  0.1 -0.1 -0.6 -0.7  0.   0.9  0.9  0.4 -0.8\n",
      " -0.3  0.4  0.   0.8  0.6  0.5 -0.5  0.6  0.1  0.  -0.8 -0.2  0.8  0.1\n",
      "  0.9  0.1  0.1  0.2  0.1 -0.8  0.4  0.9 -0.2  0.9 -0.6 -0.6  0.5  0.8\n",
      " -0.4  1.   0.5  0.2  0.5 -0.8 -0.6  0.7  0.4 -1.  -0.7  0.8 -1.   0.4\n",
      "  1.  -0.5  0.8  0.1  0.1  0.1 -0.8 -0.1  0.4 -0.5 -0.7 -0.6 -0.2  0.8\n",
      " -1.  -0.1  0.2 -0.8  0.7 -0.5  0.   1.  -1.  -0.7 -0.4  0.  -0.9 -0.7\n",
      " -0.7  0.8  0.1 -0.7 -0.1  0.1  0.7 -0.2  0.1  0.2  0.   0.1 -0.5  0.6\n",
      "  1.  -0.5 -1.   0.   0.3 -0.3 -0.1  0.9 -0.7 -0.6 -0.3  0.1 -0.8 -0.7\n",
      "  1.  -0.8 -0.9  0.   0.4 -0.9  0.   0.7 -1.  -0.8  0.  -0.3 -0.4 -0.7\n",
      "  0.4  0.7  0.9  0.5  0.5 -0.2  0.6  0.2  0.7 -0.6  0.3 -0.8  0.8 -0.8\n",
      "  0.8  0.7  0.6  0.  -0.2 -0.9  0.9  0.2  0.5 -0.9  0.4  0.5 -0.9  0.3\n",
      "  0.2  0.9 -0.3  0.3 -1.   0.   0.2 -0.4  0.7  0.1  0.  -0.7  0.   0.\n",
      "  0.4 -0.9  1.   0.3  0.3 -1.  -0.4  0.1 -0.1 -0.5  0.8  0.3  0.8  0.4\n",
      " -0.2 -1.   0.3  0.   0.2 -1.   1.  -1.   0.7 -1.  -0.1 -0.7  0.1 -0.7\n",
      " -1.  -0.7  0.5  0.6  0.2 -0.9  0.2 -0.2  0.3 -0.9 -0.2  0.   0.   0.\n",
      " -0.5  0.6  0.2 -0.7  0.6  0.3  0.  -0.1 -0.8 -0.9  0.9  0.2  0.8 -0.3\n",
      "  0.5 -0.3 -0.2  0.1  0.8  0.9  0.3  0.7  0.   1.  -0.3  0.9 -0.1 -0.5\n",
      "  0.4  0.3  0.2 -0.2 -1.  -0.4 -0.1 -1.  -0.9  0.3  0.7  0.1 -0.1  0.5\n",
      "  0.8  0.4 -0.7 -0.3  0.6  0.9  0.7  0.1  0.3  0.1 -0.4  0.3 -0.6  0.6\n",
      "  0.5  0.   0.5  0.1 -0.6  0.7  0.9 -0.3  0.7 -0.4  0.4  0.9 -0.7 -0.4\n",
      "  0.4 -0.2 -0.2  0.5  0.4  0.9 -0.4 -0.8  0.2 -0.1  0.6 -1.   0.   0.5\n",
      "  1.   0.1 -0.4  0.1  0.   1.   0.6 -0.2 -0.3  0.2  0.4 -0.5 -0.9 -0.3\n",
      "  0.1 -0.2  0.9  0.3  0.5  0.3 -0.8  0.1 -0.2  0.1  0.9 -0.6 -0.9  0.4\n",
      " -0.5  0.4  0.2  0.5 -0.3  0.7 -0.4 -0.3  0.3  0.7  0.4 -0.6 -0.1  0.2\n",
      " -0.4 -0.4  0.1  0.2  1.  -0.8 -1.   0.  -1.   0.1 -0.9 -0.2  0.  -1.\n",
      "  0.  -0.5  0.8 -1.   0.2  0.9]\n",
      "\n"
     ]
    }
   ],
   "source": [
    "import numpy as np\n",
    "from IPython.display import display\n",
    "import time\n",
    "\n",
    "num_equations = 1000\n",
    "\n",
    "y_obs = np.random.choice(2, num_equations)\n",
    "print(f\"y_obs =\\n{y_obs}\\n\")\n",
    "\n",
    "ŷ = np.random.choice(11, num_equations)/10\n",
    "print(f\"y_hat =\\n{ŷ}\\n\")\n",
    "\n",
    "num_repeat = 100\n",
    "\n",
    "start1 = time.time()\n",
    "for _ in range(num_repeat):\n",
    "    S1 = np.diag([s*(1-s) for s in ŷ])\n",
    "end1 = time.time()\n",
    "print(f\"S1 =\\n{S1}\\n\")\n",
    "print(f\"Runtime1 is {end1 - start1}\")\n",
    "\n",
    "start2 = time.time()\n",
    "for _ in range(num_repeat):\n",
    "    S2 = np.diag(ŷ) * np.diag(1-ŷ)\n",
    "end2 = time.time()\n",
    "print(f\"S2 =\\n{S2}\\n\")\n",
    "print(f\"Runtime2 is {end2 - start2}\")\n",
    "\n",
    "ℛ = y_obs - ŷ\n",
    "print(f\"ℛ =\\n{ℛ}\\n\")\n",
    "\n",
    "\n"
   ]
  },
  {
   "cell_type": "code",
   "execution_count": 73,
   "metadata": {},
   "outputs": [
    {
     "output_type": "execute_result",
     "data": {
      "text/plain": [
       "{'a': 1,\n",
       " 'b': 2,\n",
       " 'c': 3,\n",
       " 'd': 4,\n",
       " 'e': 5,\n",
       " 'f': 6,\n",
       " 'g': 7,\n",
       " 'h': 8,\n",
       " 'i': 9,\n",
       " 'j': 10,\n",
       " 'k': 11,\n",
       " 'l': 12,\n",
       " 'm': 13,\n",
       " 'n': 14,\n",
       " 'o': 15,\n",
       " 'p': 16,\n",
       " 'q': 17,\n",
       " 'r': 18,\n",
       " 's': 19,\n",
       " 't': 20,\n",
       " 'u': 21,\n",
       " 'v': 22,\n",
       " 'w': 23,\n",
       " 'x': 24,\n",
       " 'y': 25,\n",
       " 'z': 26}"
      ]
     },
     "metadata": {},
     "execution_count": 73
    }
   ],
   "source": [
    "import string\n",
    "weight = {c: i+1 for i, c in enumerate(string.ascii_lowercase)}\n",
    "score = lambda word: sum([weight[rune] for rune in word])\n",
    "def high(x):\n",
    "    return sorted([(score(w), i, w) for i, w in enumerate(x.split()[::-1])])[-1][2]"
   ]
  },
  {
   "cell_type": "code",
   "execution_count": 74,
   "metadata": {},
   "outputs": [
    {
     "output_type": "execute_result",
     "data": {
      "text/plain": [
       "97"
      ]
     },
     "metadata": {},
     "execution_count": 74
    }
   ],
   "source": [
    "ord('a')"
   ]
  },
  {
   "cell_type": "code",
   "execution_count": 75,
   "metadata": {},
   "outputs": [
    {
     "output_type": "execute_result",
     "data": {
      "text/plain": [
       "'`'"
      ]
     },
     "metadata": {},
     "execution_count": 75
    }
   ],
   "source": [
    "chr(96)"
   ]
  },
  {
   "cell_type": "code",
   "execution_count": null,
   "metadata": {},
   "outputs": [],
   "source": []
  }
 ],
 "metadata": {
  "kernelspec": {
   "name": "python388jvsc74a57bd08ed5268309b8dbceeffdb9430550e178035b67bd520f750fffe85319d3c4e2d6",
   "display_name": "Python 3.8.8 64-bit ('learn-env': conda)"
  },
  "language_info": {
   "codemirror_mode": {
    "name": "ipython",
    "version": 3
   },
   "file_extension": ".py",
   "mimetype": "text/x-python",
   "name": "python",
   "nbconvert_exporter": "python",
   "pygments_lexer": "ipython3",
   "version": "3.8.8"
  },
  "toc": {
   "base_numbering": 1,
   "nav_menu": {},
   "number_sections": false,
   "sideBar": true,
   "skip_h1_title": false,
   "title_cell": "Table of Contents",
   "title_sidebar": "Contents",
   "toc_cell": false,
   "toc_position": {
    "height": "calc(100% - 180px)",
    "left": "10px",
    "top": "150px",
    "width": "212.004px"
   },
   "toc_section_display": true,
   "toc_window_display": false
  }
 },
 "nbformat": 4,
 "nbformat_minor": 2
}